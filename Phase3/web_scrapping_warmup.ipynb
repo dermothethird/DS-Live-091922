{
 "cells": [
  {
   "cell_type": "markdown",
   "metadata": {},
   "source": [
    "# Web Scrapping Wikipedia Warm-up"
   ]
  },
  {
   "cell_type": "markdown",
   "metadata": {},
   "source": [
    "## Boston Red Sox 2021 Season"
   ]
  },
  {
   "cell_type": "markdown",
   "metadata": {},
   "source": [
    "[Wikipedia page here](https://en.wikipedia.org/wiki/2021_Boston_Red_Sox_season)\n",
    "- American League East standings table\n",
    "\n",
    "BONUS\n",
    "- Can you loop through your scraping call to gather previous season data, 2020, 2019, 2018 etc...\n",
    "- HINT: find the pattern in the url"
   ]
  },
  {
   "cell_type": "code",
   "execution_count": 1,
   "metadata": {},
   "outputs": [],
   "source": [
    "import pandas as pd\n",
    "import requests\n",
    "from bs4 import BeautifulSoup"
   ]
  },
  {
   "cell_type": "code",
   "execution_count": 2,
   "metadata": {},
   "outputs": [
    {
     "data": {
      "text/plain": [
       "200"
      ]
     },
     "execution_count": 2,
     "metadata": {},
     "output_type": "execute_result"
    }
   ],
   "source": [
    "# Setup your url as a string\n",
    "wikiurl = 'https://en.wikipedia.org/wiki/2021_Boston_Red_Sox_season'\n",
    "\n",
    "# Use requests library to make a request (.get) using the above url and save as html response\n",
    "response = requests.get(url=wikiurl)\n",
    "\n",
    "# Check status_code of response (looking for a 200)\n",
    "response.status_code"
   ]
  },
  {
   "cell_type": "markdown",
   "metadata": {},
   "source": [
    "## We now have an html response object of the requested webpage!!\n",
    "- Utilizing the BeautfiulSoup library we can now parse through this object to obtain the specifc information we want"
   ]
  },
  {
   "cell_type": "code",
   "execution_count": 3,
   "metadata": {},
   "outputs": [],
   "source": [
    "# Parse data into a beautifulsoup object using the .text attribute of our response\n",
    "soup_data = BeautifulSoup(response.text, 'html.parser')"
   ]
  },
  {
   "cell_type": "code",
   "execution_count": 5,
   "metadata": {},
   "outputs": [
    {
     "ename": "NameError",
     "evalue": "name 'prettify' is not defined",
     "output_type": "error",
     "traceback": [
      "\u001b[0;31m---------------------------------------------------------------------------\u001b[0m",
      "\u001b[0;31mNameError\u001b[0m                                 Traceback (most recent call last)",
      "\u001b[0;32m<ipython-input-5-a2681e8690b1>\u001b[0m in \u001b[0;36m<module>\u001b[0;34m\u001b[0m\n\u001b[0;32m----> 1\u001b[0;31m \u001b[0mprettify\u001b[0m\u001b[0;34m(\u001b[0m\u001b[0msoup_data\u001b[0m\u001b[0;34m)\u001b[0m\u001b[0;34m\u001b[0m\u001b[0;34m\u001b[0m\u001b[0m\n\u001b[0m",
      "\u001b[0;31mNameError\u001b[0m: name 'prettify' is not defined"
     ]
    }
   ],
   "source": [
    "prettify(soup_data)"
   ]
  },
  {
   "cell_type": "code",
   "execution_count": 7,
   "metadata": {},
   "outputs": [
    {
     "data": {
      "text/plain": [
       "<table class=\"wikitable\" style=\"text-align:center;\" width=\"535em\">\n",
       "<tbody><tr>\n",
       "<th width=\"50%\"><style data-mw-deduplicate=\"TemplateStyles:r1063604349\">.mw-parser-output .navbar{display:inline;font-size:88%;font-weight:normal}.mw-parser-output .navbar-collapse{float:left;text-align:left}.mw-parser-output .navbar-boxtext{word-spacing:0}.mw-parser-output .navbar ul{display:inline-block;white-space:nowrap;line-height:inherit}.mw-parser-output .navbar-brackets::before{margin-right:-0.125em;content:\"[ \"}.mw-parser-output .navbar-brackets::after{margin-left:-0.125em;content:\" ]\"}.mw-parser-output .navbar li{word-spacing:-0.125em}.mw-parser-output .navbar a>span,.mw-parser-output .navbar a>abbr{text-decoration:inherit}.mw-parser-output .navbar-mini abbr{font-variant:small-caps;border-bottom:none;text-decoration:none;cursor:inherit}.mw-parser-output .navbar-ct-full{font-size:114%;margin:0 7em}.mw-parser-output .navbar-ct-mini{font-size:114%;margin:0 4em}</style><div class=\"navbar plainlinks hlist navbar-mini\" style=\"float:left;width:0;\"><ul><li class=\"nv-view\"><a href=\"/wiki/Template:2021_AL_East_standings\" title=\"Template:2021 AL East standings\"><abbr title=\"View this template\">v</abbr></a></li><li class=\"nv-talk\"><a href=\"/wiki/Template_talk:2021_AL_East_standings\" title=\"Template talk:2021 AL East standings\"><abbr title=\"Discuss this template\">t</abbr></a></li><li class=\"nv-edit\"><a class=\"external text\" href=\"https://en.wikipedia.org/w/index.php?title=Template:2021_AL_East_standings&amp;action=edit\"><abbr title=\"Edit this template\">e</abbr></a></li></ul></div><a href=\"/wiki/American_League_East\" title=\"American League East\">AL East</a>\n",
       "</th>\n",
       "<th width=\"7%\"><a class=\"mw-redirect\" href=\"/wiki/Win_(baseball)\" title=\"Win (baseball)\">W</a>\n",
       "</th>\n",
       "<th width=\"7%\"><a class=\"mw-redirect\" href=\"/wiki/Loss_(baseball)\" title=\"Loss (baseball)\">L</a>\n",
       "</th>\n",
       "<th width=\"9%\"><a href=\"/wiki/Winning_percentage\" title=\"Winning percentage\">Pct.</a>\n",
       "</th>\n",
       "<th width=\"7%\"><a href=\"/wiki/Games_behind\" title=\"Games behind\">GB</a>\n",
       "</th>\n",
       "<th width=\"10%\"><a href=\"/wiki/Home_(sports)\" title=\"Home (sports)\">Home</a>\n",
       "</th>\n",
       "<th width=\"10%\"><a href=\"/wiki/Road_(sports)\" title=\"Road (sports)\">Road</a>\n",
       "</th></tr>\n",
       "<tr>\n",
       "<td><a href=\"/wiki/2021_Tampa_Bay_Rays_season\" title=\"2021 Tampa Bay Rays season\">Tampa Bay Rays</a>\n",
       "</td>\n",
       "<td>100</td>\n",
       "<td>62\n",
       "</td>\n",
       "<td>0.617\n",
       "</td>\n",
       "<td>—\n",
       "</td>\n",
       "<td>52–29\n",
       "</td>\n",
       "<td>48–33\n",
       "</td></tr>\n",
       "<tr style=\"background:#CCFFCC\">\n",
       "<td><a class=\"mw-selflink selflink\">Boston Red Sox</a>\n",
       "</td>\n",
       "<td>92</td>\n",
       "<td>70\n",
       "</td>\n",
       "<td>0.568\n",
       "</td>\n",
       "<td>8\n",
       "</td>\n",
       "<td>49–32\n",
       "</td>\n",
       "<td>43–38\n",
       "</td></tr>\n",
       "<tr>\n",
       "<td><a href=\"/wiki/2021_New_York_Yankees_season\" title=\"2021 New York Yankees season\">New York Yankees</a>\n",
       "</td>\n",
       "<td>92</td>\n",
       "<td>70\n",
       "</td>\n",
       "<td>0.568\n",
       "</td>\n",
       "<td>8\n",
       "</td>\n",
       "<td>46–35\n",
       "</td>\n",
       "<td>46–35\n",
       "</td></tr>\n",
       "<tr>\n",
       "<td><a href=\"/wiki/2021_Toronto_Blue_Jays_season\" title=\"2021 Toronto Blue Jays season\">Toronto Blue Jays</a>\n",
       "</td>\n",
       "<td>91</td>\n",
       "<td>71\n",
       "</td>\n",
       "<td>0.562\n",
       "</td>\n",
       "<td>9\n",
       "</td>\n",
       "<td>47–33\n",
       "</td>\n",
       "<td>44–38\n",
       "</td></tr>\n",
       "<tr>\n",
       "<td><a href=\"/wiki/2021_Baltimore_Orioles_season\" title=\"2021 Baltimore Orioles season\">Baltimore Orioles</a>\n",
       "</td>\n",
       "<td>52</td>\n",
       "<td>110\n",
       "</td>\n",
       "<td>0.321\n",
       "</td>\n",
       "<td>48\n",
       "</td>\n",
       "<td>27–54\n",
       "</td>\n",
       "<td>25–56\n",
       "</td></tr></tbody></table>"
      ]
     },
     "execution_count": 7,
     "metadata": {},
     "output_type": "execute_result"
    }
   ],
   "source": [
    "# Use Beautifulsoup object to find (hint) the table we want. Inspect the wikipedia table to identify unique attributes\n",
    "# to pass into dictionary\n",
    "table = soup_data.find('table', {'width': '535em', 'style': 'text-align:center;'})\n",
    "table"
   ]
  },
  {
   "cell_type": "code",
   "execution_count": 8,
   "metadata": {
    "scrolled": true
   },
   "outputs": [
    {
     "data": {
      "text/plain": [
       "[  .mw-parser-output .navbar{display:inline;font-size:88%;font-weight:normal}.mw-parser-output .navbar-collapse{float:left;text-align:left}.mw-parser-output .navbar-boxtext{word-spacing:0}.mw-parser-output .navbar ul{display:inline-block;white-space:nowrap;line-height:inherit}.mw-parser-output .navbar-brackets::before{margin-right:-0.125em;content:\"[ \"}.mw-parser-output .navbar-brackets::after{margin-left:-0.125em;content:\" ]\"}.mw-parser-output .navbar li{word-spacing:-0.125em}.mw-parser-output .navbar a>span,.mw-parser-output .navbar a>abbr{text-decoration:inherit}.mw-parser-output .navbar-mini abbr{font-variant:small-caps;border-bottom:none;text-decoration:none;cursor:inherit}.mw-parser-output .navbar-ct-full{font-size:114%;margin:0 7em}.mw-parser-output .navbar-ct-mini{font-size:114%;margin:0 4em}vteAL East  \\\n",
       " 0                                     Tampa Bay Rays                                                                                                                                                                                                                                                                                                                                                                                                                                                                                                                                                                                                                                                                                                                                                                                                   \n",
       " 1                                     Boston Red Sox                                                                                                                                                                                                                                                                                                                                                                                                                                                                                                                                                                                                                                                                                                                                                                                                   \n",
       " 2                                   New York Yankees                                                                                                                                                                                                                                                                                                                                                                                                                                                                                                                                                                                                                                                                                                                                                                                                   \n",
       " 3                                  Toronto Blue Jays                                                                                                                                                                                                                                                                                                                                                                                                                                                                                                                                                                                                                                                                                                                                                                                                   \n",
       " 4                                  Baltimore Orioles                                                                                                                                                                                                                                                                                                                                                                                                                                                                                                                                                                                                                                                                                                                                                                                                   \n",
       " \n",
       "      W    L   Pct.  GB   Home   Road  \n",
       " 0  100   62  0.617   —  52–29  48–33  \n",
       " 1   92   70  0.568   8  49–32  43–38  \n",
       " 2   92   70  0.568   8  46–35  46–35  \n",
       " 3   91   71  0.562   9  47–33  44–38  \n",
       " 4   52  110  0.321  48  27–54  25–56  ]"
      ]
     },
     "execution_count": 8,
     "metadata": {},
     "output_type": "execute_result"
    }
   ],
   "source": [
    "# Convert to list \n",
    "table_list = pd.read_html(str(table))\n",
    "table_list"
   ]
  },
  {
   "cell_type": "code",
   "execution_count": null,
   "metadata": {},
   "outputs": [],
   "source": [
    "# Pull out our data frame (the first and only entry)\n",
    "df_Al = "
   ]
  },
  {
   "cell_type": "code",
   "execution_count": null,
   "metadata": {},
   "outputs": [],
   "source": [
    "df_Al.info()"
   ]
  },
  {
   "cell_type": "markdown",
   "metadata": {},
   "source": [
    "### Looks like we have our information but we could definitely use some cleaning!"
   ]
  },
  {
   "cell_type": "markdown",
   "metadata": {},
   "source": [
    "Potential cleaning to do\n",
    "- ?\n",
    "- ?\n",
    "- ?"
   ]
  },
  {
   "cell_type": "code",
   "execution_count": null,
   "metadata": {},
   "outputs": [],
   "source": [
    "None"
   ]
  },
  {
   "cell_type": "code",
   "execution_count": null,
   "metadata": {},
   "outputs": [],
   "source": [
    "None"
   ]
  },
  {
   "cell_type": "code",
   "execution_count": null,
   "metadata": {},
   "outputs": [],
   "source": [
    "None"
   ]
  },
  {
   "cell_type": "markdown",
   "metadata": {},
   "source": [
    "### BONUS:\n",
    "Think about how you could throw this into to a function/for loop and iterate through different wikipedia pages for previous years"
   ]
  },
  {
   "cell_type": "code",
   "execution_count": 10,
   "metadata": {},
   "outputs": [],
   "source": [
    "years = [2012, 2013, 2014, 2015, 2016]"
   ]
  },
  {
   "cell_type": "code",
   "execution_count": 17,
   "metadata": {},
   "outputs": [
    {
     "name": "stdout",
     "output_type": "stream",
     "text": [
      "https://en.wikipedia.org/wiki/2012_Boston_Red_Sox_season\n",
      "https://en.wikipedia.org/wiki/2013_Boston_Red_Sox_season\n",
      "https://en.wikipedia.org/wiki/2014_Boston_Red_Sox_season\n",
      "https://en.wikipedia.org/wiki/2015_Boston_Red_Sox_season\n",
      "https://en.wikipedia.org/wiki/2016_Boston_Red_Sox_season\n"
     ]
    }
   ],
   "source": [
    "for year in years:\n",
    "    url = f'https://en.wikipedia.org/wiki/{year}_Boston_Red_Sox_season'\n",
    "    print(url)"
   ]
  },
  {
   "cell_type": "code",
   "execution_count": null,
   "metadata": {},
   "outputs": [],
   "source": []
  },
  {
   "cell_type": "code",
   "execution_count": null,
   "metadata": {},
   "outputs": [],
   "source": []
  },
  {
   "cell_type": "code",
   "execution_count": null,
   "metadata": {},
   "outputs": [],
   "source": []
  },
  {
   "cell_type": "code",
   "execution_count": null,
   "metadata": {},
   "outputs": [],
   "source": []
  },
  {
   "cell_type": "code",
   "execution_count": null,
   "metadata": {},
   "outputs": [],
   "source": []
  },
  {
   "cell_type": "code",
   "execution_count": null,
   "metadata": {},
   "outputs": [],
   "source": []
  },
  {
   "cell_type": "code",
   "execution_count": null,
   "metadata": {},
   "outputs": [],
   "source": []
  },
  {
   "cell_type": "code",
   "execution_count": null,
   "metadata": {
    "scrolled": true
   },
   "outputs": [],
   "source": [
    "option_two = pd.read_html(wikiurl, match='AL East')\n",
    "len(option_two)"
   ]
  },
  {
   "cell_type": "code",
   "execution_count": null,
   "metadata": {},
   "outputs": [],
   "source": [
    "option_two"
   ]
  },
  {
   "cell_type": "code",
   "execution_count": null,
   "metadata": {},
   "outputs": [],
   "source": [
    "option_two[3]"
   ]
  }
 ],
 "metadata": {
  "kernelspec": {
   "display_name": "Python (learn-env)",
   "language": "python",
   "name": "learn-env"
  },
  "language_info": {
   "codemirror_mode": {
    "name": "ipython",
    "version": 3
   },
   "file_extension": ".py",
   "mimetype": "text/x-python",
   "name": "python",
   "nbconvert_exporter": "python",
   "pygments_lexer": "ipython3",
   "version": "3.8.5"
  }
 },
 "nbformat": 4,
 "nbformat_minor": 4
}
