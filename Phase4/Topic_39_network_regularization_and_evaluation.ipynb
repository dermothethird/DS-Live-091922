{
 "cells": [
  {
   "cell_type": "markdown",
   "metadata": {
    "slideshow": {
     "slide_type": "slide"
    }
   },
   "source": [
    "# Regularization and Evaluation of Neural Networks"
   ]
  },
  {
   "cell_type": "code",
   "execution_count": 1,
   "metadata": {},
   "outputs": [],
   "source": [
    "from sklearn.datasets import load_sample_images\n",
    "from sklearn.datasets import load_digits\n",
    "from sklearn.model_selection import train_test_split, cross_val_score\n",
    "from sklearn.preprocessing import OneHotEncoder\n",
    "from sklearn.metrics import accuracy_score, confusion_matrix\n",
    "import matplotlib.pyplot as plt\n",
    "import matplotlib.image as mpimg\n",
    "import numpy as np\n",
    "import seaborn as sns\n",
    "\n",
    "from tensorflow.keras.models import Sequential\n",
    "from tensorflow.keras.layers import Dense, Dropout\n",
    "from tensorflow.keras.regularizers import l2\n",
    "from tensorflow.keras.optimizers import SGD\n",
    "from tensorflow.keras.wrappers import scikit_learn\n",
    "from tensorflow.keras.callbacks import EarlyStopping\n",
    "\n",
    "import os\n",
    "import sys\n",
    "module_path = os.path.abspath(os.path.join(os.pardir, os.pardir))\n",
    "if module_path not in sys.path:\n",
    "    sys.path.append(module_path)\n",
    "    \n",
    "%load_ext autoreload\n",
    "%autoreload 2"
   ]
  },
  {
   "cell_type": "markdown",
   "metadata": {},
   "source": [
    "## Learning Objectives\n",
    "\n",
    "- use `keras` to code up a neural network model;\n",
    "- explain dropout and early stopping as distinctive forms of regularization in neural networks;\n",
    "- use wrappers inside `keras` to make models that can jibe with `sklearn`."
   ]
  },
  {
   "cell_type": "markdown",
   "metadata": {},
   "source": [
    "### From last time"
   ]
  },
  {
   "cell_type": "code",
   "execution_count": 2,
   "metadata": {},
   "outputs": [],
   "source": [
    "digits = load_digits()\n",
    "X = digits.data\n",
    "y = digits.target\n",
    "\n",
    "y_binary = y % 2"
   ]
  },
  {
   "cell_type": "code",
   "execution_count": 3,
   "metadata": {
    "scrolled": true
   },
   "outputs": [
    {
     "name": "stdout",
     "output_type": "stream",
     "text": [
      "Epoch 1/50\n",
      "180/180 [==============================] - 0s 680us/step - loss: 0.8306 - accuracy: 0.6984\n",
      "Epoch 2/50\n",
      "180/180 [==============================] - 0s 661us/step - loss: 0.2889 - accuracy: 0.8809\n",
      "Epoch 3/50\n",
      "180/180 [==============================] - 0s 739us/step - loss: 0.2051 - accuracy: 0.9199\n",
      "Epoch 4/50\n",
      "180/180 [==============================] - 0s 597us/step - loss: 0.1550 - accuracy: 0.9432\n",
      "Epoch 5/50\n",
      "180/180 [==============================] - 0s 583us/step - loss: 0.1364 - accuracy: 0.9444\n",
      "Epoch 6/50\n",
      "180/180 [==============================] - 0s 606us/step - loss: 0.1115 - accuracy: 0.9566\n",
      "Epoch 7/50\n",
      "180/180 [==============================] - 0s 614us/step - loss: 0.0993 - accuracy: 0.9616\n",
      "Epoch 8/50\n",
      "180/180 [==============================] - 0s 654us/step - loss: 0.0871 - accuracy: 0.9677\n",
      "Epoch 9/50\n",
      "180/180 [==============================] - 0s 622us/step - loss: 0.0809 - accuracy: 0.9694\n",
      "Epoch 10/50\n",
      "180/180 [==============================] - 0s 621us/step - loss: 0.0751 - accuracy: 0.9727\n",
      "Epoch 11/50\n",
      "180/180 [==============================] - 0s 598us/step - loss: 0.0655 - accuracy: 0.9738\n",
      "Epoch 12/50\n",
      "180/180 [==============================] - 0s 542us/step - loss: 0.0587 - accuracy: 0.9766\n",
      "Epoch 13/50\n",
      "180/180 [==============================] - 0s 588us/step - loss: 0.0521 - accuracy: 0.9800\n",
      "Epoch 14/50\n",
      "180/180 [==============================] - 0s 579us/step - loss: 0.0477 - accuracy: 0.9805\n",
      "Epoch 15/50\n",
      "180/180 [==============================] - 0s 546us/step - loss: 0.0413 - accuracy: 0.9850\n",
      "Epoch 16/50\n",
      "180/180 [==============================] - 0s 590us/step - loss: 0.0449 - accuracy: 0.9794\n",
      "Epoch 17/50\n",
      "180/180 [==============================] - 0s 614us/step - loss: 0.0322 - accuracy: 0.9878\n",
      "Epoch 18/50\n",
      "180/180 [==============================] - 0s 591us/step - loss: 0.0323 - accuracy: 0.9883\n",
      "Epoch 19/50\n",
      "180/180 [==============================] - 0s 542us/step - loss: 0.0306 - accuracy: 0.9900\n",
      "Epoch 20/50\n",
      "180/180 [==============================] - 0s 537us/step - loss: 0.0295 - accuracy: 0.9861\n",
      "Epoch 21/50\n",
      "180/180 [==============================] - 0s 521us/step - loss: 0.0246 - accuracy: 0.9894\n",
      "Epoch 22/50\n",
      "180/180 [==============================] - 0s 522us/step - loss: 0.0234 - accuracy: 0.9911\n",
      "Epoch 23/50\n",
      "180/180 [==============================] - 0s 535us/step - loss: 0.0240 - accuracy: 0.9917\n",
      "Epoch 24/50\n",
      "180/180 [==============================] - 0s 518us/step - loss: 0.0200 - accuracy: 0.9933\n",
      "Epoch 25/50\n",
      "180/180 [==============================] - 0s 524us/step - loss: 0.0197 - accuracy: 0.9911\n",
      "Epoch 26/50\n",
      "180/180 [==============================] - 0s 521us/step - loss: 0.0185 - accuracy: 0.9928\n",
      "Epoch 27/50\n",
      "180/180 [==============================] - 0s 555us/step - loss: 0.0182 - accuracy: 0.9928\n",
      "Epoch 28/50\n",
      "180/180 [==============================] - 0s 594us/step - loss: 0.0152 - accuracy: 0.9933\n",
      "Epoch 29/50\n",
      "180/180 [==============================] - 0s 617us/step - loss: 0.0111 - accuracy: 0.9972\n",
      "Epoch 30/50\n",
      "180/180 [==============================] - 0s 585us/step - loss: 0.0147 - accuracy: 0.9939\n",
      "Epoch 31/50\n",
      "180/180 [==============================] - 0s 622us/step - loss: 0.0130 - accuracy: 0.9950\n",
      "Epoch 32/50\n",
      "180/180 [==============================] - 0s 628us/step - loss: 0.0123 - accuracy: 0.9944\n",
      "Epoch 33/50\n",
      "180/180 [==============================] - 0s 622us/step - loss: 0.0107 - accuracy: 0.9967\n",
      "Epoch 34/50\n",
      "180/180 [==============================] - 0s 620us/step - loss: 0.0136 - accuracy: 0.9944\n",
      "Epoch 35/50\n",
      "180/180 [==============================] - 0s 645us/step - loss: 0.0098 - accuracy: 0.9972\n",
      "Epoch 36/50\n",
      "180/180 [==============================] - 0s 635us/step - loss: 0.0098 - accuracy: 0.9967\n",
      "Epoch 37/50\n",
      "180/180 [==============================] - 0s 612us/step - loss: 0.0101 - accuracy: 0.9955\n",
      "Epoch 38/50\n",
      "180/180 [==============================] - 0s 630us/step - loss: 0.0071 - accuracy: 0.9961\n",
      "Epoch 39/50\n",
      "180/180 [==============================] - 0s 608us/step - loss: 0.0116 - accuracy: 0.9944\n",
      "Epoch 40/50\n",
      "180/180 [==============================] - 0s 619us/step - loss: 0.0110 - accuracy: 0.9950\n",
      "Epoch 41/50\n",
      "180/180 [==============================] - 0s 682us/step - loss: 0.0099 - accuracy: 0.9972\n",
      "Epoch 42/50\n",
      "180/180 [==============================] - 0s 611us/step - loss: 0.0059 - accuracy: 0.9989\n",
      "Epoch 43/50\n",
      "180/180 [==============================] - 0s 625us/step - loss: 0.0060 - accuracy: 0.9983\n",
      "Epoch 44/50\n",
      "180/180 [==============================] - 0s 621us/step - loss: 0.0057 - accuracy: 0.9983\n",
      "Epoch 45/50\n",
      "180/180 [==============================] - 0s 615us/step - loss: 0.0055 - accuracy: 0.9972\n",
      "Epoch 46/50\n",
      "180/180 [==============================] - 0s 600us/step - loss: 0.0073 - accuracy: 0.9972\n",
      "Epoch 47/50\n",
      "180/180 [==============================] - 0s 619us/step - loss: 0.0067 - accuracy: 0.9983\n",
      "Epoch 48/50\n",
      "180/180 [==============================] - 0s 618us/step - loss: 0.0033 - accuracy: 0.9994\n",
      "Epoch 49/50\n",
      "180/180 [==============================] - 0s 615us/step - loss: 0.0068 - accuracy: 0.9978\n",
      "Epoch 50/50\n",
      "180/180 [==============================] - 0s 666us/step - loss: 0.0032 - accuracy: 0.9994\n"
     ]
    },
    {
     "data": {
      "text/plain": [
       "<tensorflow.python.keras.callbacks.History at 0x7fddff510c40>"
      ]
     },
     "execution_count": 3,
     "metadata": {},
     "output_type": "execute_result"
    }
   ],
   "source": [
    "model = Sequential()\n",
    "model.add(Dense(12, activation='relu', input_dim=64))\n",
    "model.add(Dense(8, activation='relu'))\n",
    "model.add(Dense(1, activation='sigmoid'))\n",
    "\n",
    "model.compile(optimizer='rmsprop',\n",
    "              loss='binary_crossentropy',\n",
    "              metrics=['accuracy'])\n",
    "\n",
    "model.fit(X, y_binary, epochs=50, batch_size=10)"
   ]
  },
  {
   "cell_type": "markdown",
   "metadata": {},
   "source": [
    "### Things to know:\n",
    "\n",
    "- The data and labels in `fit()` need to be numpy arrays, not `pandas` dfs.\n",
    "- Scaling your data will have a large impact on your model.\n",
    "   > For our traditional input features, we would use a scaler object. For images, as long as the minimum value is 0, we can simply divide through by the maximum pixel intensity."
   ]
  },
  {
   "cell_type": "markdown",
   "metadata": {},
   "source": [
    "#### Getting data ready for modeling\n",
    "**Preprocessing**:\n",
    "\n",
    "- use train_test_split to create X_train, y_train, X_test, and y_test\n",
    "- Split training data into pure_train and validation sets.\n",
    "- Scale the pixel intensity to a value between 0 and 1."
   ]
  },
  {
   "cell_type": "markdown",
   "metadata": {},
   "source": [
    "Scaling our input variables will help speed up our neural network.\n",
    "\n",
    "Since our minimum intensity is 0, we can normalize the inputs by dividing each value by the max value (16)."
   ]
  },
  {
   "cell_type": "code",
   "execution_count": 4,
   "metadata": {},
   "outputs": [],
   "source": [
    "X_train, X_test, y_train, y_test =\\\n",
    "    train_test_split(X, y_binary, random_state=42, test_size=0.2)\n",
    "\n",
    "X_pure_train, X_val, y_pure_train, y_val =\\\n",
    "    train_test_split(X_train, y_train, random_state=42, test_size=0.2)\n",
    "\n",
    "X_pure_train, X_val, X_test = X_pure_train/16, X_val/16, X_test/16"
   ]
  },
  {
   "cell_type": "markdown",
   "metadata": {},
   "source": [
    "For activation, let's start with the familiar sigmoid function, and see how it performs."
   ]
  },
  {
   "cell_type": "code",
   "execution_count": 5,
   "metadata": {},
   "outputs": [
    {
     "name": "stdout",
     "output_type": "stream",
     "text": [
      "Epoch 1/10\n",
      "12/12 [==============================] - 0s 667us/step - loss: 0.9127 - accuracy: 0.4961\n",
      "Epoch 2/10\n",
      "12/12 [==============================] - 0s 712us/step - loss: 0.8701 - accuracy: 0.4961\n",
      "Epoch 3/10\n",
      "12/12 [==============================] - 0s 777us/step - loss: 0.8355 - accuracy: 0.4961\n",
      "Epoch 4/10\n",
      "12/12 [==============================] - 0s 759us/step - loss: 0.8061 - accuracy: 0.4961\n",
      "Epoch 5/10\n",
      "12/12 [==============================] - 0s 709us/step - loss: 0.7825 - accuracy: 0.4961\n",
      "Epoch 6/10\n",
      "12/12 [==============================] - 0s 736us/step - loss: 0.7634 - accuracy: 0.4961\n",
      "Epoch 7/10\n",
      "12/12 [==============================] - 0s 699us/step - loss: 0.7485 - accuracy: 0.4961\n",
      "Epoch 8/10\n",
      "12/12 [==============================] - 0s 739us/step - loss: 0.7363 - accuracy: 0.4961\n",
      "Epoch 9/10\n",
      "12/12 [==============================] - 0s 724us/step - loss: 0.7270 - accuracy: 0.4961\n",
      "Epoch 10/10\n",
      "12/12 [==============================] - 0s 795us/step - loss: 0.7190 - accuracy: 0.4961\n"
     ]
    }
   ],
   "source": [
    "model = Sequential()\n",
    "# We will start with our trusty sigmoid function.\n",
    "# What does input dimension correspond to?\n",
    "model.add(Dense(12, activation='sigmoid', input_dim=64))\n",
    "model.add(Dense(8, activation='sigmoid'))\n",
    "model.add(Dense(1, activation='sigmoid'))\n",
    "\n",
    "model.compile(optimizer='SGD' ,\n",
    "              # We use binary_crossentropy for a binary loss function\n",
    "              loss='binary_crossentropy',\n",
    "              metrics=['accuracy'])\n",
    "\n",
    "# Assign the variable history to store the results,\n",
    "# and set verbose=1 so we can see the output. To see\n",
    "# only the metrics at the end of each epoch, set verbose=2.\n",
    "results = model.fit(X_pure_train, y_pure_train, epochs=10, batch_size=100, verbose=1)"
   ]
  },
  {
   "cell_type": "markdown",
   "metadata": {},
   "source": [
    "We can access the history of our model via `results.history`.\n",
    "Use __dict__ to take a tour."
   ]
  },
  {
   "cell_type": "code",
   "execution_count": 6,
   "metadata": {},
   "outputs": [
    {
     "data": {
      "text/plain": [
       "{'validation_data': None,\n",
       " 'model': <tensorflow.python.keras.engine.sequential.Sequential at 0x7fde1726fca0>,\n",
       " '_chief_worker_only': None,\n",
       " '_supports_tf_logs': False,\n",
       " 'history': {'loss': [0.9126896858215332,\n",
       "   0.8701481223106384,\n",
       "   0.8354955911636353,\n",
       "   0.806090772151947,\n",
       "   0.7824792265892029,\n",
       "   0.7634244561195374,\n",
       "   0.7484851479530334,\n",
       "   0.7363371253013611,\n",
       "   0.7269832491874695,\n",
       "   0.7190151214599609],\n",
       "  'accuracy': [0.4960835576057434,\n",
       "   0.4960835576057434,\n",
       "   0.4960835576057434,\n",
       "   0.4960835576057434,\n",
       "   0.4960835576057434,\n",
       "   0.4960835576057434,\n",
       "   0.4960835576057434,\n",
       "   0.4960835576057434,\n",
       "   0.4960835576057434,\n",
       "   0.4960835576057434]},\n",
       " 'params': {'verbose': 1, 'epochs': 10, 'steps': 12},\n",
       " 'epoch': [0, 1, 2, 3, 4, 5, 6, 7, 8, 9]}"
      ]
     },
     "execution_count": 6,
     "metadata": {},
     "output_type": "execute_result"
    }
   ],
   "source": [
    "results.__dict__"
   ]
  },
  {
   "cell_type": "code",
   "execution_count": 7,
   "metadata": {},
   "outputs": [
    {
     "data": {
      "image/png": "[encoded data removed]",
      "text/plain": [
       "<Figure size 720x360 with 2 Axes>"
      ]
     },
     "metadata": {
      "needs_background": "light"
     },
     "output_type": "display_data"
    }
   ],
   "source": [
    "sigmoid_loss = results.history['loss']\n",
    "sigmoid_accuracy = results.history['accuracy']\n",
    "\n",
    "fig, (ax1, ax2) = plt.subplots(1, 2, figsize=(10, 5))\n",
    "sns.lineplot(x=results.epoch, y=sigmoid_loss, ax=ax1, label='loss')\n",
    "sns.lineplot(x=results.epoch, y=sigmoid_accuracy, ax=ax2, label='accuracy');"
   ]
  },
  {
   "cell_type": "markdown",
   "metadata": {},
   "source": [
    "We have two plots above both relating to the quality of our model.  The left-hand plot is our loss. It uses the probabilities associated with our predictions to judge how well our prediction fits reality. We want it to decrease as far as possible.\n",
    "\n",
    "The accuracy judges how well the predictions are after applying the threshold at the output layer.  We want accuracy to increase."
   ]
  },
  {
   "cell_type": "markdown",
   "metadata": {},
   "source": [
    "If we look at our loss, it is still decreasing. That is a signal that our model is **still learning**. If our model is still learning, we can allow it to get better by turning a few dials.\n",
    "\n",
    "Let's:\n",
    "- increase the number of epochs;\n",
    "- change sigmoid activation in the hidden layers to ReLU; and\n",
    "- decrease the batch size."
   ]
  },
  {
   "cell_type": "code",
   "execution_count": null,
   "metadata": {},
   "outputs": [],
   "source": [
    "X_pure_train.shape[0]"
   ]
  },
  {
   "cell_type": "code",
   "execution_count": 8,
   "metadata": {
    "scrolled": false
   },
   "outputs": [
    {
     "name": "stdout",
     "output_type": "stream",
     "text": [
      "Epoch 1/100\n",
      "23/23 [==============================] - 0s 646us/step - loss: 0.7260 - accuracy: 0.4970\n",
      "Epoch 2/100\n",
      "23/23 [==============================] - 0s 753us/step - loss: 0.7095 - accuracy: 0.5213\n",
      "Epoch 3/100\n",
      "23/23 [==============================] - 0s 709us/step - loss: 0.6987 - accuracy: 0.5466\n",
      "Epoch 4/100\n",
      "23/23 [==============================] - 0s 747us/step - loss: 0.6896 - accuracy: 0.5753\n",
      "Epoch 5/100\n",
      "23/23 [==============================] - 0s 715us/step - loss: 0.6807 - accuracy: 0.5849\n",
      "Epoch 6/100\n",
      "23/23 [==============================] - 0s 659us/step - loss: 0.6719 - accuracy: 0.6057\n",
      "Epoch 7/100\n",
      "23/23 [==============================] - 0s 711us/step - loss: 0.6629 - accuracy: 0.6223\n",
      "Epoch 8/100\n",
      "23/23 [==============================] - 0s 679us/step - loss: 0.6533 - accuracy: 0.6371\n",
      "Epoch 9/100\n",
      "23/23 [==============================] - 0s 712us/step - loss: 0.6431 - accuracy: 0.6493\n",
      "Epoch 10/100\n",
      "23/23 [==============================] - 0s 678us/step - loss: 0.6322 - accuracy: 0.6641\n",
      "Epoch 11/100\n",
      "23/23 [==============================] - 0s 666us/step - loss: 0.6206 - accuracy: 0.6815\n",
      "Epoch 12/100\n",
      "23/23 [==============================] - 0s 703us/step - loss: 0.6087 - accuracy: 0.6832\n",
      "Epoch 13/100\n",
      "23/23 [==============================] - 0s 705us/step - loss: 0.5961 - accuracy: 0.7006\n",
      "Epoch 14/100\n",
      "23/23 [==============================] - 0s 669us/step - loss: 0.5832 - accuracy: 0.7189\n",
      "Epoch 15/100\n",
      "23/23 [==============================] - 0s 650us/step - loss: 0.5699 - accuracy: 0.7250\n",
      "Epoch 16/100\n",
      "23/23 [==============================] - 0s 725us/step - loss: 0.5557 - accuracy: 0.7450\n",
      "Epoch 17/100\n",
      "23/23 [==============================] - 0s 722us/step - loss: 0.5412 - accuracy: 0.7563\n",
      "Epoch 18/100\n",
      "23/23 [==============================] - 0s 674us/step - loss: 0.5264 - accuracy: 0.7668\n",
      "Epoch 19/100\n",
      "23/23 [==============================] - 0s 706us/step - loss: 0.5111 - accuracy: 0.7850\n",
      "Epoch 20/100\n",
      "23/23 [==============================] - 0s 691us/step - loss: 0.4957 - accuracy: 0.7972\n",
      "Epoch 21/100\n",
      "23/23 [==============================] - 0s 1ms/step - loss: 0.4799 - accuracy: 0.8085\n",
      "Epoch 22/100\n",
      "23/23 [==============================] - 0s 737us/step - loss: 0.4645 - accuracy: 0.8198\n",
      "Epoch 23/100\n",
      "23/23 [==============================] - 0s 736us/step - loss: 0.4496 - accuracy: 0.8225\n",
      "Epoch 24/100\n",
      "23/23 [==============================] - 0s 718us/step - loss: 0.4348 - accuracy: 0.8303\n",
      "Epoch 25/100\n",
      "23/23 [==============================] - 0s 674us/step - loss: 0.4208 - accuracy: 0.8338\n",
      "Epoch 26/100\n",
      "23/23 [==============================] - 0s 670us/step - loss: 0.4075 - accuracy: 0.8407\n",
      "Epoch 27/100\n",
      "23/23 [==============================] - 0s 757us/step - loss: 0.3944 - accuracy: 0.8451\n",
      "Epoch 28/100\n",
      "23/23 [==============================] - 0s 741us/step - loss: 0.3826 - accuracy: 0.8512\n",
      "Epoch 29/100\n",
      "23/23 [==============================] - 0s 654us/step - loss: 0.3716 - accuracy: 0.8529\n",
      "Epoch 30/100\n",
      "23/23 [==============================] - 0s 721us/step - loss: 0.3612 - accuracy: 0.8590\n",
      "Epoch 31/100\n",
      "23/23 [==============================] - 0s 696us/step - loss: 0.3514 - accuracy: 0.8607\n",
      "Epoch 32/100\n",
      "23/23 [==============================] - 0s 705us/step - loss: 0.3426 - accuracy: 0.8616\n",
      "Epoch 33/100\n",
      "23/23 [==============================] - 0s 647us/step - loss: 0.3347 - accuracy: 0.8721\n",
      "Epoch 34/100\n",
      "23/23 [==============================] - 0s 675us/step - loss: 0.3267 - accuracy: 0.8668\n",
      "Epoch 35/100\n",
      "23/23 [==============================] - 0s 666us/step - loss: 0.3196 - accuracy: 0.8721\n",
      "Epoch 36/100\n",
      "23/23 [==============================] - 0s 778us/step - loss: 0.3137 - accuracy: 0.8764\n",
      "Epoch 37/100\n",
      "23/23 [==============================] - 0s 709us/step - loss: 0.3075 - accuracy: 0.8747\n",
      "Epoch 38/100\n",
      "23/23 [==============================] - 0s 726us/step - loss: 0.3013 - accuracy: 0.8773\n",
      "Epoch 39/100\n",
      "23/23 [==============================] - 0s 696us/step - loss: 0.2960 - accuracy: 0.8825\n",
      "Epoch 40/100\n",
      "23/23 [==============================] - 0s 695us/step - loss: 0.2915 - accuracy: 0.8825\n",
      "Epoch 41/100\n",
      "23/23 [==============================] - 0s 705us/step - loss: 0.2868 - accuracy: 0.8834\n",
      "Epoch 42/100\n",
      "23/23 [==============================] - 0s 749us/step - loss: 0.2831 - accuracy: 0.8851\n",
      "Epoch 43/100\n",
      "23/23 [==============================] - 0s 672us/step - loss: 0.2794 - accuracy: 0.8860\n",
      "Epoch 44/100\n",
      "23/23 [==============================] - 0s 682us/step - loss: 0.2750 - accuracy: 0.8921\n",
      "Epoch 45/100\n",
      "23/23 [==============================] - 0s 673us/step - loss: 0.2712 - accuracy: 0.8930\n",
      "Epoch 46/100\n",
      "23/23 [==============================] - 0s 725us/step - loss: 0.2687 - accuracy: 0.8947\n",
      "Epoch 47/100\n",
      "23/23 [==============================] - 0s 700us/step - loss: 0.2651 - accuracy: 0.8947\n",
      "Epoch 48/100\n",
      "23/23 [==============================] - 0s 774us/step - loss: 0.2619 - accuracy: 0.8982\n",
      "Epoch 49/100\n",
      "23/23 [==============================] - 0s 663us/step - loss: 0.2596 - accuracy: 0.8956\n",
      "Epoch 50/100\n",
      "23/23 [==============================] - 0s 737us/step - loss: 0.2565 - accuracy: 0.8982\n",
      "Epoch 51/100\n",
      "23/23 [==============================] - 0s 653us/step - loss: 0.2535 - accuracy: 0.8990\n",
      "Epoch 52/100\n",
      "23/23 [==============================] - 0s 663us/step - loss: 0.2517 - accuracy: 0.8964\n",
      "Epoch 53/100\n",
      "23/23 [==============================] - 0s 730us/step - loss: 0.2493 - accuracy: 0.8973\n",
      "Epoch 54/100\n",
      "23/23 [==============================] - 0s 1ms/step - loss: 0.2465 - accuracy: 0.8982\n",
      "Epoch 55/100\n",
      "23/23 [==============================] - 0s 781us/step - loss: 0.2441 - accuracy: 0.9017\n",
      "Epoch 56/100\n",
      "23/23 [==============================] - 0s 659us/step - loss: 0.2421 - accuracy: 0.9043\n",
      "Epoch 57/100\n",
      "23/23 [==============================] - 0s 742us/step - loss: 0.2398 - accuracy: 0.9008\n",
      "Epoch 58/100\n",
      "23/23 [==============================] - 0s 685us/step - loss: 0.2377 - accuracy: 0.9043\n",
      "Epoch 59/100\n",
      "23/23 [==============================] - 0s 663us/step - loss: 0.2361 - accuracy: 0.9051\n",
      "Epoch 60/100\n",
      "23/23 [==============================] - 0s 677us/step - loss: 0.2345 - accuracy: 0.9051\n",
      "Epoch 61/100\n",
      "23/23 [==============================] - 0s 742us/step - loss: 0.2333 - accuracy: 0.9008\n",
      "Epoch 62/100\n",
      "23/23 [==============================] - 0s 666us/step - loss: 0.2307 - accuracy: 0.9069\n",
      "Epoch 63/100\n",
      "23/23 [==============================] - 0s 644us/step - loss: 0.2288 - accuracy: 0.9069\n",
      "Epoch 64/100\n",
      "23/23 [==============================] - 0s 658us/step - loss: 0.2272 - accuracy: 0.9043\n",
      "Epoch 65/100\n",
      "23/23 [==============================] - 0s 788us/step - loss: 0.2257 - accuracy: 0.9069\n",
      "Epoch 66/100\n",
      "23/23 [==============================] - 0s 666us/step - loss: 0.2244 - accuracy: 0.9069\n",
      "Epoch 67/100\n",
      "23/23 [==============================] - 0s 759us/step - loss: 0.2226 - accuracy: 0.9069\n",
      "Epoch 68/100\n",
      "23/23 [==============================] - 0s 705us/step - loss: 0.2211 - accuracy: 0.9060\n",
      "Epoch 69/100\n",
      "23/23 [==============================] - 0s 690us/step - loss: 0.2204 - accuracy: 0.9095\n",
      "Epoch 70/100\n",
      "23/23 [==============================] - 0s 701us/step - loss: 0.2187 - accuracy: 0.9086\n",
      "Epoch 71/100\n",
      "23/23 [==============================] - 0s 668us/step - loss: 0.2174 - accuracy: 0.9086\n",
      "Epoch 72/100\n",
      "23/23 [==============================] - 0s 678us/step - loss: 0.2155 - accuracy: 0.9095\n",
      "Epoch 73/100\n",
      "23/23 [==============================] - 0s 662us/step - loss: 0.2140 - accuracy: 0.9077\n",
      "Epoch 74/100\n",
      "23/23 [==============================] - 0s 636us/step - loss: 0.2136 - accuracy: 0.9086\n",
      "Epoch 75/100\n",
      "23/23 [==============================] - 0s 683us/step - loss: 0.2114 - accuracy: 0.9121\n",
      "Epoch 76/100\n",
      "23/23 [==============================] - 0s 658us/step - loss: 0.2101 - accuracy: 0.9112\n",
      "Epoch 77/100\n",
      "23/23 [==============================] - 0s 618us/step - loss: 0.2098 - accuracy: 0.9095\n",
      "Epoch 78/100\n",
      "23/23 [==============================] - 0s 711us/step - loss: 0.2079 - accuracy: 0.9104\n",
      "Epoch 79/100\n",
      "23/23 [==============================] - 0s 661us/step - loss: 0.2072 - accuracy: 0.9121\n",
      "Epoch 80/100\n",
      "23/23 [==============================] - 0s 723us/step - loss: 0.2063 - accuracy: 0.9138\n",
      "Epoch 81/100\n"
     ]
    },
    {
     "name": "stdout",
     "output_type": "stream",
     "text": [
      "23/23 [==============================] - 0s 643us/step - loss: 0.2049 - accuracy: 0.9130\n",
      "Epoch 82/100\n",
      "23/23 [==============================] - 0s 705us/step - loss: 0.2033 - accuracy: 0.9121\n",
      "Epoch 83/100\n",
      "23/23 [==============================] - 0s 638us/step - loss: 0.2026 - accuracy: 0.9130\n",
      "Epoch 84/100\n",
      "23/23 [==============================] - 0s 621us/step - loss: 0.2017 - accuracy: 0.9121\n",
      "Epoch 85/100\n",
      "23/23 [==============================] - 0s 613us/step - loss: 0.1997 - accuracy: 0.9121\n",
      "Epoch 86/100\n",
      "23/23 [==============================] - 0s 636us/step - loss: 0.1993 - accuracy: 0.9173\n",
      "Epoch 87/100\n",
      "23/23 [==============================] - 0s 647us/step - loss: 0.1981 - accuracy: 0.9173\n",
      "Epoch 88/100\n",
      "23/23 [==============================] - 0s 725us/step - loss: 0.1976 - accuracy: 0.9156\n",
      "Epoch 89/100\n",
      "23/23 [==============================] - 0s 621us/step - loss: 0.1971 - accuracy: 0.9147\n",
      "Epoch 90/100\n",
      "23/23 [==============================] - 0s 632us/step - loss: 0.1948 - accuracy: 0.9164\n",
      "Epoch 91/100\n",
      "23/23 [==============================] - 0s 632us/step - loss: 0.1942 - accuracy: 0.9156\n",
      "Epoch 92/100\n",
      "23/23 [==============================] - 0s 698us/step - loss: 0.1929 - accuracy: 0.9164\n",
      "Epoch 93/100\n",
      "23/23 [==============================] - 0s 655us/step - loss: 0.1915 - accuracy: 0.9182\n",
      "Epoch 94/100\n",
      "23/23 [==============================] - 0s 633us/step - loss: 0.1907 - accuracy: 0.9199\n",
      "Epoch 95/100\n",
      "23/23 [==============================] - 0s 654us/step - loss: 0.1892 - accuracy: 0.9199\n",
      "Epoch 96/100\n",
      "23/23 [==============================] - 0s 635us/step - loss: 0.1883 - accuracy: 0.9191\n",
      "Epoch 97/100\n",
      "23/23 [==============================] - 0s 626us/step - loss: 0.1865 - accuracy: 0.9191\n",
      "Epoch 98/100\n",
      "23/23 [==============================] - 0s 707us/step - loss: 0.1861 - accuracy: 0.9208\n",
      "Epoch 99/100\n",
      "23/23 [==============================] - 0s 624us/step - loss: 0.1846 - accuracy: 0.9225\n",
      "Epoch 100/100\n",
      "23/23 [==============================] - 0s 636us/step - loss: 0.1829 - accuracy: 0.9243\n"
     ]
    }
   ],
   "source": [
    "model = Sequential()\n",
    "model.add(Dense(12, activation='relu', input_dim=64))\n",
    "model.add(Dense(8, activation='relu'))\n",
    "model.add(Dense(1, activation='sigmoid'))\n",
    "\n",
    "model.compile(optimizer='SGD',\n",
    "              loss='binary_crossentropy',\n",
    "              metrics=['accuracy'])\n",
    "\n",
    "# Assign the variable history to store the results,\n",
    "# and set verbose=1 so we can see the output.\n",
    "results = model.fit(X_pure_train, y_pure_train, epochs=100, batch_size=50, verbose=1)"
   ]
  },
  {
   "cell_type": "code",
   "execution_count": 9,
   "metadata": {},
   "outputs": [
    {
     "data": {
      "image/png": "[encoded data removed]",
      "text/plain": [
       "<Figure size 720x360 with 2 Axes>"
      ]
     },
     "metadata": {
      "needs_background": "light"
     },
     "output_type": "display_data"
    }
   ],
   "source": [
    "sigmoid_loss = results.history['loss']\n",
    "sigmoid_accuracy = results.history['accuracy']\n",
    "\n",
    "fig, (ax1, ax2) = plt.subplots(1, 2, figsize=(10, 5))\n",
    "sns.lineplot(x=results.epoch, y=sigmoid_loss, ax=ax1, label='loss')\n",
    "sns.lineplot(x=results.epoch, y=sigmoid_accuracy, ax=ax2, label='accuracy');"
   ]
  },
  {
   "cell_type": "markdown",
   "metadata": {},
   "source": [
    "If we increase the learning rate to a very high number, we see that our model overshoots the minimum, and starts bouncing all around."
   ]
  },
  {
   "cell_type": "code",
   "execution_count": null,
   "metadata": {},
   "outputs": [],
   "source": [
    "model = Sequential()\n",
    "\n",
    "sgd = \n",
    "model.add(Dense(12, activation='relu', input_dim=64))\n",
    "model.add(Dense(8, activation='relu'))\n",
    "model.add(Dense(1, activation='sigmoid'))\n",
    "\n",
    "model.compile(optimizer=None,\n",
    "              loss='binary_crossentropy',\n",
    "              metrics=['accuracy'])\n",
    "\n",
    "results = model.fit(X_pure_train, y_pure_train,\n",
    "                    epochs=30, batch_size=10, verbose=1)\n",
    "\n",
    "relu_loss = results.history['loss']\n",
    "relu_accuracy = results.history['accuracy']\n",
    "\n",
    "fig, (ax1, ax2) = plt.subplots(1, 2, figsize=(10, 5))\n",
    "sns.lineplot(x=results.epoch, y=relu_loss, ax=ax1, label='loss')\n",
    "sns.lineplot(x=results.epoch, y=relu_accuracy, ax=ax2, label='accuracy');"
   ]
  },
  {
   "cell_type": "markdown",
   "metadata": {},
   "source": [
    "### Exercise\n",
    "\n",
    "We have been looking only at our training set. Let's add in our validation set to the picture. Check the docstring for the `.fit()` method and add in our validation data."
   ]
  },
  {
   "cell_type": "code",
   "execution_count": 10,
   "metadata": {},
   "outputs": [
    {
     "name": "stdout",
     "output_type": "stream",
     "text": [
      "Epoch 1/30\n",
      "115/115 [==============================] - 0s 2ms/step - loss: 0.6643 - accuracy: 0.5466 - val_loss: 0.6345 - val_accuracy: 0.5868\n",
      "Epoch 2/30\n",
      "115/115 [==============================] - 0s 935us/step - loss: 0.5664 - accuracy: 0.7276 - val_loss: 0.5192 - val_accuracy: 0.7951\n",
      "Epoch 3/30\n",
      "115/115 [==============================] - 0s 992us/step - loss: 0.4482 - accuracy: 0.8642 - val_loss: 0.4032 - val_accuracy: 0.8785\n",
      "Epoch 4/30\n",
      "115/115 [==============================] - 0s 992us/step - loss: 0.3208 - accuracy: 0.9164 - val_loss: 0.2525 - val_accuracy: 0.9306\n",
      "Epoch 5/30\n",
      "115/115 [==============================] - 0s 1ms/step - loss: 0.2048 - accuracy: 0.9339 - val_loss: 0.1658 - val_accuracy: 0.9444\n",
      "Epoch 6/30\n",
      "115/115 [==============================] - 0s 988us/step - loss: 0.1548 - accuracy: 0.9452 - val_loss: 0.1412 - val_accuracy: 0.9514\n",
      "Epoch 7/30\n",
      "115/115 [==============================] - 0s 934us/step - loss: 0.1265 - accuracy: 0.9556 - val_loss: 0.1437 - val_accuracy: 0.9410\n",
      "Epoch 8/30\n",
      "115/115 [==============================] - 0s 948us/step - loss: 0.1107 - accuracy: 0.9617 - val_loss: 0.1139 - val_accuracy: 0.9618\n",
      "Epoch 9/30\n",
      "115/115 [==============================] - 0s 961us/step - loss: 0.0956 - accuracy: 0.9704 - val_loss: 0.1002 - val_accuracy: 0.9549\n",
      "Epoch 10/30\n",
      "115/115 [==============================] - 0s 963us/step - loss: 0.0857 - accuracy: 0.9704 - val_loss: 0.0926 - val_accuracy: 0.9583\n",
      "Epoch 11/30\n",
      "115/115 [==============================] - 0s 962us/step - loss: 0.0819 - accuracy: 0.9687 - val_loss: 0.0867 - val_accuracy: 0.9688\n",
      "Epoch 12/30\n",
      "115/115 [==============================] - 0s 923us/step - loss: 0.0706 - accuracy: 0.9765 - val_loss: 0.0808 - val_accuracy: 0.9653\n",
      "Epoch 13/30\n",
      "115/115 [==============================] - 0s 950us/step - loss: 0.0663 - accuracy: 0.9774 - val_loss: 0.0734 - val_accuracy: 0.9688\n",
      "Epoch 14/30\n",
      "115/115 [==============================] - 0s 918us/step - loss: 0.0595 - accuracy: 0.9817 - val_loss: 0.0827 - val_accuracy: 0.9722\n",
      "Epoch 15/30\n",
      "115/115 [==============================] - 0s 973us/step - loss: 0.0589 - accuracy: 0.9826 - val_loss: 0.0665 - val_accuracy: 0.9653\n",
      "Epoch 16/30\n",
      "115/115 [==============================] - 0s 992us/step - loss: 0.0568 - accuracy: 0.9835 - val_loss: 0.0741 - val_accuracy: 0.9757\n",
      "Epoch 17/30\n",
      "115/115 [==============================] - 0s 954us/step - loss: 0.0454 - accuracy: 0.9904 - val_loss: 0.0639 - val_accuracy: 0.9757\n",
      "Epoch 18/30\n",
      "115/115 [==============================] - 0s 925us/step - loss: 0.0434 - accuracy: 0.9852 - val_loss: 0.0607 - val_accuracy: 0.9722\n",
      "Epoch 19/30\n",
      "115/115 [==============================] - 0s 1ms/step - loss: 0.0382 - accuracy: 0.9887 - val_loss: 0.0587 - val_accuracy: 0.9688\n",
      "Epoch 20/30\n",
      "115/115 [==============================] - 0s 991us/step - loss: 0.0407 - accuracy: 0.9843 - val_loss: 0.0683 - val_accuracy: 0.9757\n",
      "Epoch 21/30\n",
      "115/115 [==============================] - 0s 986us/step - loss: 0.0394 - accuracy: 0.9852 - val_loss: 0.0518 - val_accuracy: 0.9826\n",
      "Epoch 22/30\n",
      "115/115 [==============================] - 0s 991us/step - loss: 0.0318 - accuracy: 0.9896 - val_loss: 0.0497 - val_accuracy: 0.9826\n",
      "Epoch 23/30\n",
      "115/115 [==============================] - 0s 974us/step - loss: 0.0304 - accuracy: 0.9913 - val_loss: 0.0594 - val_accuracy: 0.9757\n",
      "Epoch 24/30\n",
      "115/115 [==============================] - 0s 938us/step - loss: 0.0294 - accuracy: 0.9930 - val_loss: 0.0557 - val_accuracy: 0.9826\n",
      "Epoch 25/30\n",
      "115/115 [==============================] - 0s 952us/step - loss: 0.0250 - accuracy: 0.9930 - val_loss: 0.0467 - val_accuracy: 0.9792\n",
      "Epoch 26/30\n",
      "115/115 [==============================] - 0s 987us/step - loss: 0.0246 - accuracy: 0.9948 - val_loss: 0.0474 - val_accuracy: 0.9826\n",
      "Epoch 27/30\n",
      "115/115 [==============================] - 0s 965us/step - loss: 0.0232 - accuracy: 0.9930 - val_loss: 0.0773 - val_accuracy: 0.9722\n",
      "Epoch 28/30\n",
      "115/115 [==============================] - 0s 969us/step - loss: 0.0211 - accuracy: 0.9956 - val_loss: 0.0502 - val_accuracy: 0.9826\n",
      "Epoch 29/30\n",
      "115/115 [==============================] - 0s 965us/step - loss: 0.0190 - accuracy: 0.9965 - val_loss: 0.0504 - val_accuracy: 0.9861\n",
      "Epoch 30/30\n",
      "115/115 [==============================] - 0s 963us/step - loss: 0.0171 - accuracy: 0.9983 - val_loss: 0.0466 - val_accuracy: 0.9861\n"
     ]
    },
    {
     "data": {
      "image/png": "[encoded data removed]",
      "text/plain": [
       "<Figure size 720x360 with 2 Axes>"
      ]
     },
     "metadata": {
      "needs_background": "light"
     },
     "output_type": "display_data"
    }
   ],
   "source": [
    "model = Sequential()\n",
    "model.add(Dense(12, activation='relu', input_dim=64))\n",
    "model.add(Dense(8, activation='relu'))\n",
    "model.add(Dense(4, activation='relu'))\n",
    "model.add(Dense(1, activation='sigmoid'))\n",
    "\n",
    "model.compile(optimizer='adam',\n",
    "              loss='binary_crossentropy',\n",
    "              metrics=['accuracy'])\n",
    "\n",
    "\n",
    "## YOUR CODE HERE\n",
    "results = model.fit(X_pure_train, y_pure_train, epochs=30, batch_size=10, verbose=1, validation_data=(X_val, y_val))\n",
    "\n",
    "\n",
    "train_loss = results.history['loss']\n",
    "train_acc = results.history['accuracy']\n",
    "val_loss = results.history['val_loss']\n",
    "val_acc = results.history['val_accuracy']\n",
    "\n",
    "fig, (ax1, ax2) = plt.subplots(1, 2, figsize=(10, 5))\n",
    "sns.lineplot(x=results.epoch, y=train_loss, ax=ax1, label='train_loss')\n",
    "sns.lineplot(x=results.epoch, y=train_acc, ax=ax2, label='train_accuracy')\n",
    "\n",
    "sns.lineplot(x=results.epoch, y=val_loss, ax=ax1, label='val_loss')\n",
    "sns.lineplot(x=results.epoch, y=val_acc, ax=ax2, label='val_accuracy');"
   ]
  },
  {
   "cell_type": "markdown",
   "metadata": {},
   "source": [
    "<details>\n",
    "    <summary>One answer here</summary>\n",
    "<code>model = Sequential()\n",
    "model.add(Dense(12, activation='relu', input_dim=64))\n",
    "model.add(Dense(8, activation='relu'))\n",
    "model.add(Dense(4, activation='relu'))\n",
    "model.add(Dense(1, activation='sigmoid'))\n",
    "model.compile(optimizer='adam',\n",
    "              loss='binary_crossentropy',\n",
    "              metrics=['accuracy'])\n",
    "results = model.fit(X_pure_train, y_pure_train,\n",
    "                   validation_data=(X_val, y_val),\n",
    "                   epochs=30, batch_size=10)\n",
    "train_loss = results.history['loss']\n",
    "train_acc = results.history['accuracy']\n",
    "val_loss = results.history['val_loss']\n",
    "val_acc = results.history['val_accuracy']\n",
    "fig, (ax1, ax2) = plt.subplots(1, 2, figsize=(10, 5))\n",
    "sns.lineplot(x=results.epoch, y=train_loss, ax=ax1, label='train_loss')\n",
    "sns.lineplot(x=results.epoch, y=train_acc, ax=ax2, label='train_accuracy')\n",
    "sns.lineplot(x=results.epoch, y=val_loss, ax=ax1, label='val_loss')\n",
    "sns.lineplot(x=results.epoch, y=val_acc, ax=ax2, label='val_accuracy');</code>\n",
    "</details>"
   ]
  },
  {
   "cell_type": "code",
   "execution_count": 11,
   "metadata": {},
   "outputs": [
    {
     "data": {
      "text/plain": [
       "0.9861111044883728"
      ]
     },
     "execution_count": 11,
     "metadata": {},
     "output_type": "execute_result"
    }
   ],
   "source": [
    "results.history['val_accuracy'][-1]"
   ]
  },
  {
   "cell_type": "markdown",
   "metadata": {},
   "source": [
    "## Connecting with `sklearn`\n",
    "\n",
    "The `keras.wrappers` submodule means that we can turn `keras` models into estimators that `sklearn` tools will recognize."
   ]
  },
  {
   "cell_type": "code",
   "execution_count": null,
   "metadata": {},
   "outputs": [],
   "source": [
    "# This will throw an error.\n",
    "\n",
    "cross_val_score(model, X_pure_train, y_pure_train)"
   ]
  },
  {
   "cell_type": "code",
   "execution_count": 12,
   "metadata": {},
   "outputs": [],
   "source": [
    "def build_model():\n",
    "    model = Sequential()\n",
    "    model.add(Dense(12, activation='relu', input_dim=64))\n",
    "    model.add(Dense(8, activation='relu'))\n",
    "    model.add(Dense(4, activation='relu'))\n",
    "    model.add(Dense(1, activation = 'sigmoid'))\n",
    "\n",
    "    model.compile(optimizer='adam',\n",
    "                  loss='binary_crossentropy',\n",
    "                  metrics=['accuracy'])\n",
    "    return model"
   ]
  },
  {
   "cell_type": "code",
   "execution_count": 13,
   "metadata": {},
   "outputs": [],
   "source": [
    "keras_model = scikit_learn.KerasClassifier(build_model,\n",
    "                                          epochs=50,\n",
    "                                          batch_size=32,\n",
    "                                          verbose=1)"
   ]
  },
  {
   "cell_type": "code",
   "execution_count": 14,
   "metadata": {},
   "outputs": [
    {
     "data": {
      "text/plain": [
       "tensorflow.python.keras.wrappers.scikit_learn.KerasClassifier"
      ]
     },
     "execution_count": 14,
     "metadata": {},
     "output_type": "execute_result"
    }
   ],
   "source": [
    "type(keras_model)"
   ]
  },
  {
   "cell_type": "code",
   "execution_count": 15,
   "metadata": {},
   "outputs": [
    {
     "name": "stdout",
     "output_type": "stream",
     "text": [
      "Epoch 1/50\n",
      "29/29 [==============================] - 0s 817us/step - loss: 0.7050 - accuracy: 0.4842\n",
      "Epoch 2/50\n",
      "29/29 [==============================] - 0s 849us/step - loss: 0.6777 - accuracy: 0.5734\n",
      "Epoch 3/50\n",
      "29/29 [==============================] - 0s 796us/step - loss: 0.6528 - accuracy: 0.5985\n",
      "Epoch 4/50\n",
      "29/29 [==============================] - 0s 907us/step - loss: 0.6166 - accuracy: 0.7029\n",
      "Epoch 5/50\n",
      "29/29 [==============================] - 0s 806us/step - loss: 0.5663 - accuracy: 0.7737\n",
      "Epoch 6/50\n",
      "29/29 [==============================] - 0s 781us/step - loss: 0.5052 - accuracy: 0.8477\n",
      "Epoch 7/50\n",
      "29/29 [==============================] - 0s 794us/step - loss: 0.4393 - accuracy: 0.8629\n",
      "Epoch 8/50\n",
      "29/29 [==============================] - 0s 932us/step - loss: 0.3835 - accuracy: 0.8770\n",
      "Epoch 9/50\n",
      "29/29 [==============================] - 0s 719us/step - loss: 0.3252 - accuracy: 0.8999\n",
      "Epoch 10/50\n",
      "29/29 [==============================] - 0s 841us/step - loss: 0.2734 - accuracy: 0.9184\n",
      "Epoch 11/50\n",
      "29/29 [==============================] - 0s 1ms/step - loss: 0.2355 - accuracy: 0.9238\n",
      "Epoch 12/50\n",
      "29/29 [==============================] - 0s 982us/step - loss: 0.2073 - accuracy: 0.9336\n",
      "Epoch 13/50\n",
      "29/29 [==============================] - 0s 766us/step - loss: 0.1840 - accuracy: 0.9402\n",
      "Epoch 14/50\n",
      "29/29 [==============================] - 0s 943us/step - loss: 0.1685 - accuracy: 0.9445\n",
      "Epoch 15/50\n",
      "29/29 [==============================] - 0s 861us/step - loss: 0.1533 - accuracy: 0.9456\n",
      "Epoch 16/50\n",
      "29/29 [==============================] - 0s 748us/step - loss: 0.1421 - accuracy: 0.9478\n",
      "Epoch 17/50\n",
      "29/29 [==============================] - 0s 741us/step - loss: 0.1313 - accuracy: 0.9478\n",
      "Epoch 18/50\n",
      "29/29 [==============================] - 0s 811us/step - loss: 0.1212 - accuracy: 0.9554\n",
      "Epoch 19/50\n",
      "29/29 [==============================] - 0s 1ms/step - loss: 0.1149 - accuracy: 0.9587\n",
      "Epoch 20/50\n",
      "29/29 [==============================] - 0s 821us/step - loss: 0.1060 - accuracy: 0.9608\n",
      "Epoch 21/50\n",
      "29/29 [==============================] - 0s 798us/step - loss: 0.1030 - accuracy: 0.9630\n",
      "Epoch 22/50\n",
      "29/29 [==============================] - 0s 807us/step - loss: 0.0969 - accuracy: 0.9630\n",
      "Epoch 23/50\n",
      "29/29 [==============================] - 0s 729us/step - loss: 0.0917 - accuracy: 0.9717\n",
      "Epoch 24/50\n",
      "29/29 [==============================] - 0s 750us/step - loss: 0.0869 - accuracy: 0.9739\n",
      "Epoch 25/50\n",
      "29/29 [==============================] - 0s 859us/step - loss: 0.0788 - accuracy: 0.9750\n",
      "Epoch 26/50\n",
      "29/29 [==============================] - 0s 780us/step - loss: 0.0772 - accuracy: 0.9750\n",
      "Epoch 27/50\n",
      "29/29 [==============================] - 0s 781us/step - loss: 0.0740 - accuracy: 0.9782\n",
      "Epoch 28/50\n",
      "29/29 [==============================] - 0s 828us/step - loss: 0.0687 - accuracy: 0.9848\n",
      "Epoch 29/50\n",
      "29/29 [==============================] - 0s 790us/step - loss: 0.0667 - accuracy: 0.9804\n",
      "Epoch 30/50\n",
      "29/29 [==============================] - 0s 831us/step - loss: 0.0635 - accuracy: 0.9815\n",
      "Epoch 31/50\n",
      "29/29 [==============================] - 0s 779us/step - loss: 0.0609 - accuracy: 0.9826\n",
      "Epoch 32/50\n",
      "29/29 [==============================] - 0s 735us/step - loss: 0.0563 - accuracy: 0.9859\n",
      "Epoch 33/50\n",
      "29/29 [==============================] - 0s 811us/step - loss: 0.0541 - accuracy: 0.9848\n",
      "Epoch 34/50\n",
      "29/29 [==============================] - 0s 832us/step - loss: 0.0507 - accuracy: 0.9891\n",
      "Epoch 35/50\n",
      "29/29 [==============================] - 0s 792us/step - loss: 0.0505 - accuracy: 0.9869\n",
      "Epoch 36/50\n",
      "29/29 [==============================] - 0s 752us/step - loss: 0.0485 - accuracy: 0.9880\n",
      "Epoch 37/50\n",
      "29/29 [==============================] - 0s 785us/step - loss: 0.0455 - accuracy: 0.9869\n",
      "Epoch 38/50\n",
      "29/29 [==============================] - 0s 792us/step - loss: 0.0427 - accuracy: 0.9880\n",
      "Epoch 39/50\n",
      "29/29 [==============================] - 0s 777us/step - loss: 0.0408 - accuracy: 0.9880\n",
      "Epoch 40/50\n",
      "29/29 [==============================] - 0s 758us/step - loss: 0.0399 - accuracy: 0.9891\n",
      "Epoch 41/50\n",
      "29/29 [==============================] - 0s 739us/step - loss: 0.0379 - accuracy: 0.9902\n",
      "Epoch 42/50\n",
      "29/29 [==============================] - 0s 929us/step - loss: 0.0366 - accuracy: 0.9935\n",
      "Epoch 43/50\n",
      "29/29 [==============================] - 0s 837us/step - loss: 0.0353 - accuracy: 0.9902\n",
      "Epoch 44/50\n",
      "29/29 [==============================] - 0s 785us/step - loss: 0.0319 - accuracy: 0.9913\n",
      "Epoch 45/50\n",
      "29/29 [==============================] - 0s 778us/step - loss: 0.0314 - accuracy: 0.9913\n",
      "Epoch 46/50\n",
      "29/29 [==============================] - 0s 770us/step - loss: 0.0312 - accuracy: 0.9956\n",
      "Epoch 47/50\n",
      "29/29 [==============================] - 0s 823us/step - loss: 0.0314 - accuracy: 0.9935\n",
      "Epoch 48/50\n",
      "29/29 [==============================] - 0s 799us/step - loss: 0.0287 - accuracy: 0.9913\n",
      "Epoch 49/50\n",
      "29/29 [==============================] - 0s 818us/step - loss: 0.0261 - accuracy: 0.9967\n",
      "Epoch 50/50\n",
      "29/29 [==============================] - 0s 774us/step - loss: 0.0242 - accuracy: 0.9989\n",
      "8/8 [==============================] - 0s 695us/step - loss: 0.1080 - accuracy: 0.9565\n",
      "Epoch 1/50\n",
      "29/29 [==============================] - 0s 862us/step - loss: 0.6473 - accuracy: 0.6485\n",
      "Epoch 2/50\n",
      "29/29 [==============================] - 0s 835us/step - loss: 0.5704 - accuracy: 0.7595\n",
      "Epoch 3/50\n",
      "29/29 [==============================] - 0s 828us/step - loss: 0.4724 - accuracy: 0.8433\n",
      "Epoch 4/50\n",
      "29/29 [==============================] - 0s 827us/step - loss: 0.3845 - accuracy: 0.8716\n",
      "Epoch 5/50\n",
      "29/29 [==============================] - 0s 731us/step - loss: 0.3208 - accuracy: 0.8934\n",
      "Epoch 6/50\n",
      "29/29 [==============================] - 0s 874us/step - loss: 0.2799 - accuracy: 0.8890\n",
      "Epoch 7/50\n",
      "29/29 [==============================] - 0s 906us/step - loss: 0.2505 - accuracy: 0.9032\n",
      "Epoch 8/50\n",
      "29/29 [==============================] - 0s 901us/step - loss: 0.2327 - accuracy: 0.9053\n",
      "Epoch 9/50\n",
      "29/29 [==============================] - 0s 883us/step - loss: 0.2145 - accuracy: 0.9206\n",
      "Epoch 10/50\n",
      "29/29 [==============================] - 0s 1ms/step - loss: 0.2086 - accuracy: 0.9119\n",
      "Epoch 11/50\n",
      "29/29 [==============================] - 0s 2ms/step - loss: 0.1904 - accuracy: 0.9173\n",
      "Epoch 12/50\n",
      "29/29 [==============================] - 0s 805us/step - loss: 0.1808 - accuracy: 0.9260\n",
      "Epoch 13/50\n",
      "29/29 [==============================] - 0s 779us/step - loss: 0.1699 - accuracy: 0.9282\n",
      "Epoch 14/50\n",
      "29/29 [==============================] - 0s 844us/step - loss: 0.1585 - accuracy: 0.9304\n",
      "Epoch 15/50\n",
      "29/29 [==============================] - 0s 791us/step - loss: 0.1478 - accuracy: 0.9358\n",
      "Epoch 16/50\n",
      "29/29 [==============================] - 0s 843us/step - loss: 0.1424 - accuracy: 0.9347\n",
      "Epoch 17/50\n",
      "29/29 [==============================] - 0s 734us/step - loss: 0.1378 - accuracy: 0.9434\n",
      "Epoch 18/50\n",
      "29/29 [==============================] - 0s 785us/step - loss: 0.1267 - accuracy: 0.9467\n",
      "Epoch 19/50\n",
      "29/29 [==============================] - 0s 813us/step - loss: 0.1200 - accuracy: 0.9499\n",
      "Epoch 20/50\n",
      "29/29 [==============================] - 0s 836us/step - loss: 0.1184 - accuracy: 0.9499\n",
      "Epoch 21/50\n",
      "29/29 [==============================] - 0s 819us/step - loss: 0.1081 - accuracy: 0.9576\n",
      "Epoch 22/50\n",
      "29/29 [==============================] - 0s 725us/step - loss: 0.1033 - accuracy: 0.9619\n",
      "Epoch 23/50\n",
      "29/29 [==============================] - 0s 795us/step - loss: 0.1027 - accuracy: 0.9587\n",
      "Epoch 24/50\n",
      "29/29 [==============================] - 0s 757us/step - loss: 0.0962 - accuracy: 0.9641\n",
      "Epoch 25/50\n",
      "29/29 [==============================] - 0s 747us/step - loss: 0.0914 - accuracy: 0.9641\n",
      "Epoch 26/50\n",
      "29/29 [==============================] - 0s 811us/step - loss: 0.0863 - accuracy: 0.9663\n",
      "Epoch 27/50\n",
      "29/29 [==============================] - 0s 802us/step - loss: 0.0843 - accuracy: 0.9663\n",
      "Epoch 28/50\n",
      "29/29 [==============================] - 0s 856us/step - loss: 0.0816 - accuracy: 0.9717\n",
      "Epoch 29/50\n",
      "29/29 [==============================] - 0s 802us/step - loss: 0.0776 - accuracy: 0.9761\n",
      "Epoch 30/50\n",
      "29/29 [==============================] - 0s 741us/step - loss: 0.0753 - accuracy: 0.9706\n",
      "Epoch 31/50\n"
     ]
    },
    {
     "name": "stdout",
     "output_type": "stream",
     "text": [
      "29/29 [==============================] - 0s 797us/step - loss: 0.0717 - accuracy: 0.9728\n",
      "Epoch 32/50\n",
      "29/29 [==============================] - 0s 822us/step - loss: 0.0759 - accuracy: 0.9728\n",
      "Epoch 33/50\n",
      "29/29 [==============================] - 0s 787us/step - loss: 0.0642 - accuracy: 0.9837\n",
      "Epoch 34/50\n",
      "29/29 [==============================] - 0s 756us/step - loss: 0.0727 - accuracy: 0.9717\n",
      "Epoch 35/50\n",
      "29/29 [==============================] - 0s 751us/step - loss: 0.0630 - accuracy: 0.9793\n",
      "Epoch 36/50\n",
      "29/29 [==============================] - 0s 753us/step - loss: 0.0608 - accuracy: 0.9804\n",
      "Epoch 37/50\n",
      "29/29 [==============================] - 0s 757us/step - loss: 0.0595 - accuracy: 0.9761\n",
      "Epoch 38/50\n",
      "29/29 [==============================] - 0s 795us/step - loss: 0.0553 - accuracy: 0.9837\n",
      "Epoch 39/50\n",
      "29/29 [==============================] - 0s 775us/step - loss: 0.0604 - accuracy: 0.9750\n",
      "Epoch 40/50\n",
      "29/29 [==============================] - 0s 745us/step - loss: 0.0552 - accuracy: 0.9826\n",
      "Epoch 41/50\n",
      "29/29 [==============================] - 0s 722us/step - loss: 0.0527 - accuracy: 0.9826\n",
      "Epoch 42/50\n",
      "29/29 [==============================] - 0s 875us/step - loss: 0.0491 - accuracy: 0.9859\n",
      "Epoch 43/50\n",
      "29/29 [==============================] - 0s 753us/step - loss: 0.0496 - accuracy: 0.9837\n",
      "Epoch 44/50\n",
      "29/29 [==============================] - 0s 832us/step - loss: 0.0508 - accuracy: 0.9848\n",
      "Epoch 45/50\n",
      "29/29 [==============================] - 0s 881us/step - loss: 0.0479 - accuracy: 0.9826\n",
      "Epoch 46/50\n",
      "29/29 [==============================] - 0s 865us/step - loss: 0.0448 - accuracy: 0.9880\n",
      "Epoch 47/50\n",
      "29/29 [==============================] - 0s 772us/step - loss: 0.0425 - accuracy: 0.9848\n",
      "Epoch 48/50\n",
      "29/29 [==============================] - 0s 766us/step - loss: 0.0423 - accuracy: 0.9869\n",
      "Epoch 49/50\n",
      "29/29 [==============================] - 0s 728us/step - loss: 0.0391 - accuracy: 0.9880\n",
      "Epoch 50/50\n",
      "29/29 [==============================] - 0s 884us/step - loss: 0.0419 - accuracy: 0.9869\n",
      "8/8 [==============================] - 0s 656us/step - loss: 0.1441 - accuracy: 0.9565\n",
      "Epoch 1/50\n",
      "29/29 [==============================] - 0s 1ms/step - loss: 0.6775 - accuracy: 0.6757\n",
      "Epoch 2/50\n",
      "29/29 [==============================] - 0s 957us/step - loss: 0.6321 - accuracy: 0.7334\n",
      "Epoch 3/50\n",
      "29/29 [==============================] - 0s 865us/step - loss: 0.5631 - accuracy: 0.7530\n",
      "Epoch 4/50\n",
      "29/29 [==============================] - 0s 738us/step - loss: 0.4593 - accuracy: 0.8215\n",
      "Epoch 5/50\n",
      "29/29 [==============================] - 0s 720us/step - loss: 0.3775 - accuracy: 0.8553\n",
      "Epoch 6/50\n",
      "29/29 [==============================] - 0s 797us/step - loss: 0.3258 - accuracy: 0.8770\n",
      "Epoch 7/50\n",
      "29/29 [==============================] - 0s 724us/step - loss: 0.2875 - accuracy: 0.8803\n",
      "Epoch 8/50\n",
      "29/29 [==============================] - 0s 740us/step - loss: 0.2561 - accuracy: 0.8966\n",
      "Epoch 9/50\n",
      "29/29 [==============================] - 0s 714us/step - loss: 0.2297 - accuracy: 0.9053\n",
      "Epoch 10/50\n",
      "29/29 [==============================] - 0s 753us/step - loss: 0.2092 - accuracy: 0.9162\n",
      "Epoch 11/50\n",
      "29/29 [==============================] - 0s 752us/step - loss: 0.1949 - accuracy: 0.9162\n",
      "Epoch 12/50\n",
      "29/29 [==============================] - 0s 720us/step - loss: 0.1800 - accuracy: 0.9260\n",
      "Epoch 13/50\n",
      "29/29 [==============================] - 0s 752us/step - loss: 0.1739 - accuracy: 0.9271\n",
      "Epoch 14/50\n",
      "29/29 [==============================] - 0s 857us/step - loss: 0.1625 - accuracy: 0.9293\n",
      "Epoch 15/50\n",
      "29/29 [==============================] - 0s 752us/step - loss: 0.1566 - accuracy: 0.9412\n",
      "Epoch 16/50\n",
      "29/29 [==============================] - 0s 771us/step - loss: 0.1489 - accuracy: 0.9402\n",
      "Epoch 17/50\n",
      "29/29 [==============================] - 0s 772us/step - loss: 0.1407 - accuracy: 0.9412\n",
      "Epoch 18/50\n",
      "29/29 [==============================] - 0s 747us/step - loss: 0.1348 - accuracy: 0.9499\n",
      "Epoch 19/50\n",
      "29/29 [==============================] - 0s 814us/step - loss: 0.1264 - accuracy: 0.9532\n",
      "Epoch 20/50\n",
      "29/29 [==============================] - 0s 717us/step - loss: 0.1216 - accuracy: 0.9554\n",
      "Epoch 21/50\n",
      "29/29 [==============================] - 0s 728us/step - loss: 0.1156 - accuracy: 0.9576\n",
      "Epoch 22/50\n",
      "29/29 [==============================] - 0s 759us/step - loss: 0.1132 - accuracy: 0.9630\n",
      "Epoch 23/50\n",
      "29/29 [==============================] - 0s 778us/step - loss: 0.1086 - accuracy: 0.9565\n",
      "Epoch 24/50\n",
      "29/29 [==============================] - 0s 826us/step - loss: 0.1063 - accuracy: 0.9630\n",
      "Epoch 25/50\n",
      "29/29 [==============================] - 0s 712us/step - loss: 0.0967 - accuracy: 0.9684\n",
      "Epoch 26/50\n",
      "29/29 [==============================] - 0s 735us/step - loss: 0.0928 - accuracy: 0.9663\n",
      "Epoch 27/50\n",
      "29/29 [==============================] - 0s 739us/step - loss: 0.0898 - accuracy: 0.9674\n",
      "Epoch 28/50\n",
      "29/29 [==============================] - 0s 761us/step - loss: 0.0867 - accuracy: 0.9695\n",
      "Epoch 29/50\n",
      "29/29 [==============================] - 0s 862us/step - loss: 0.0808 - accuracy: 0.9728\n",
      "Epoch 30/50\n",
      "29/29 [==============================] - 0s 823us/step - loss: 0.0776 - accuracy: 0.9771\n",
      "Epoch 31/50\n",
      "29/29 [==============================] - 0s 810us/step - loss: 0.0763 - accuracy: 0.9750\n",
      "Epoch 32/50\n",
      "29/29 [==============================] - 0s 704us/step - loss: 0.0728 - accuracy: 0.9815\n",
      "Epoch 33/50\n",
      "29/29 [==============================] - 0s 847us/step - loss: 0.0690 - accuracy: 0.9782\n",
      "Epoch 34/50\n",
      "29/29 [==============================] - 0s 860us/step - loss: 0.0696 - accuracy: 0.9761\n",
      "Epoch 35/50\n",
      "29/29 [==============================] - 0s 849us/step - loss: 0.0624 - accuracy: 0.9826\n",
      "Epoch 36/50\n",
      "29/29 [==============================] - 0s 764us/step - loss: 0.0610 - accuracy: 0.9837\n",
      "Epoch 37/50\n",
      "29/29 [==============================] - 0s 709us/step - loss: 0.0578 - accuracy: 0.9804\n",
      "Epoch 38/50\n",
      "29/29 [==============================] - 0s 767us/step - loss: 0.0555 - accuracy: 0.9859\n",
      "Epoch 39/50\n",
      "29/29 [==============================] - 0s 865us/step - loss: 0.0537 - accuracy: 0.9826\n",
      "Epoch 40/50\n",
      "29/29 [==============================] - 0s 760us/step - loss: 0.0505 - accuracy: 0.9837\n",
      "Epoch 41/50\n",
      "29/29 [==============================] - 0s 713us/step - loss: 0.0458 - accuracy: 0.9902\n",
      "Epoch 42/50\n",
      "29/29 [==============================] - 0s 784us/step - loss: 0.0469 - accuracy: 0.9891\n",
      "Epoch 43/50\n",
      "29/29 [==============================] - 0s 842us/step - loss: 0.0416 - accuracy: 0.9891\n",
      "Epoch 44/50\n",
      "29/29 [==============================] - 0s 823us/step - loss: 0.0434 - accuracy: 0.9891\n",
      "Epoch 45/50\n",
      "29/29 [==============================] - 0s 814us/step - loss: 0.0391 - accuracy: 0.9902\n",
      "Epoch 46/50\n",
      "29/29 [==============================] - 0s 734us/step - loss: 0.0374 - accuracy: 0.9935\n",
      "Epoch 47/50\n",
      "29/29 [==============================] - 0s 769us/step - loss: 0.0353 - accuracy: 0.9913\n",
      "Epoch 48/50\n",
      "29/29 [==============================] - 0s 757us/step - loss: 0.0355 - accuracy: 0.9913\n",
      "Epoch 49/50\n",
      "29/29 [==============================] - 0s 824us/step - loss: 0.0327 - accuracy: 0.9924\n",
      "Epoch 50/50\n",
      "29/29 [==============================] - 0s 840us/step - loss: 0.0337 - accuracy: 0.9913\n",
      "8/8 [==============================] - 0s 667us/step - loss: 0.0912 - accuracy: 0.9739\n",
      "Epoch 1/50\n",
      "29/29 [==============================] - 0s 740us/step - loss: 0.7258 - accuracy: 0.4995\n",
      "Epoch 2/50\n",
      "29/29 [==============================] - 0s 817us/step - loss: 0.6771 - accuracy: 0.5680\n",
      "Epoch 3/50\n",
      "29/29 [==============================] - 0s 793us/step - loss: 0.6457 - accuracy: 0.6594\n",
      "Epoch 4/50\n",
      "29/29 [==============================] - 0s 720us/step - loss: 0.5849 - accuracy: 0.6888\n",
      "Epoch 5/50\n",
      "29/29 [==============================] - 0s 757us/step - loss: 0.5248 - accuracy: 0.7813\n",
      "Epoch 6/50\n",
      "29/29 [==============================] - 0s 938us/step - loss: 0.4880 - accuracy: 0.8422\n",
      "Epoch 7/50\n",
      "29/29 [==============================] - 0s 1ms/step - loss: 0.4627 - accuracy: 0.8694\n",
      "Epoch 8/50\n",
      "29/29 [==============================] - 0s 882us/step - loss: 0.4413 - accuracy: 0.8868\n",
      "Epoch 9/50\n",
      "29/29 [==============================] - 0s 810us/step - loss: 0.4261 - accuracy: 0.8934\n",
      "Epoch 10/50\n"
     ]
    },
    {
     "name": "stdout",
     "output_type": "stream",
     "text": [
      "29/29 [==============================] - 0s 798us/step - loss: 0.4099 - accuracy: 0.8988\n",
      "Epoch 11/50\n",
      "29/29 [==============================] - 0s 704us/step - loss: 0.3938 - accuracy: 0.9086\n",
      "Epoch 12/50\n",
      "29/29 [==============================] - 0s 771us/step - loss: 0.3809 - accuracy: 0.9129\n",
      "Epoch 13/50\n",
      "29/29 [==============================] - 0s 703us/step - loss: 0.3680 - accuracy: 0.9217\n",
      "Epoch 14/50\n",
      "29/29 [==============================] - 0s 754us/step - loss: 0.3551 - accuracy: 0.9325\n",
      "Epoch 15/50\n",
      "29/29 [==============================] - 0s 752us/step - loss: 0.3450 - accuracy: 0.9369\n",
      "Epoch 16/50\n",
      "29/29 [==============================] - 0s 708us/step - loss: 0.3341 - accuracy: 0.9391\n",
      "Epoch 17/50\n",
      "29/29 [==============================] - 0s 779us/step - loss: 0.3245 - accuracy: 0.9445\n",
      "Epoch 18/50\n",
      "29/29 [==============================] - 0s 2ms/step - loss: 0.3159 - accuracy: 0.9499\n",
      "Epoch 19/50\n",
      "29/29 [==============================] - 0s 829us/step - loss: 0.3081 - accuracy: 0.9510\n",
      "Epoch 20/50\n",
      "29/29 [==============================] - 0s 735us/step - loss: 0.3021 - accuracy: 0.9499\n",
      "Epoch 21/50\n",
      "29/29 [==============================] - 0s 760us/step - loss: 0.2908 - accuracy: 0.9554\n",
      "Epoch 22/50\n",
      "29/29 [==============================] - 0s 726us/step - loss: 0.2844 - accuracy: 0.9619\n",
      "Epoch 23/50\n",
      "29/29 [==============================] - 0s 719us/step - loss: 0.2789 - accuracy: 0.9576\n",
      "Epoch 24/50\n",
      "29/29 [==============================] - 0s 704us/step - loss: 0.2697 - accuracy: 0.9619\n",
      "Epoch 25/50\n",
      "29/29 [==============================] - 0s 726us/step - loss: 0.2635 - accuracy: 0.9630\n",
      "Epoch 26/50\n",
      "29/29 [==============================] - 0s 743us/step - loss: 0.2571 - accuracy: 0.9652\n",
      "Epoch 27/50\n",
      "29/29 [==============================] - 0s 731us/step - loss: 0.2520 - accuracy: 0.9695\n",
      "Epoch 28/50\n",
      "29/29 [==============================] - 0s 764us/step - loss: 0.2434 - accuracy: 0.9717\n",
      "Epoch 29/50\n",
      "29/29 [==============================] - 0s 813us/step - loss: 0.2374 - accuracy: 0.9750\n",
      "Epoch 30/50\n",
      "29/29 [==============================] - 0s 769us/step - loss: 0.2325 - accuracy: 0.9717\n",
      "Epoch 31/50\n",
      "29/29 [==============================] - 0s 725us/step - loss: 0.2255 - accuracy: 0.9793\n",
      "Epoch 32/50\n",
      "29/29 [==============================] - 0s 754us/step - loss: 0.2214 - accuracy: 0.9728\n",
      "Epoch 33/50\n",
      "29/29 [==============================] - 0s 773us/step - loss: 0.2217 - accuracy: 0.9728\n",
      "Epoch 34/50\n",
      "29/29 [==============================] - 0s 764us/step - loss: 0.2125 - accuracy: 0.9804\n",
      "Epoch 35/50\n",
      "29/29 [==============================] - 0s 705us/step - loss: 0.2052 - accuracy: 0.9771\n",
      "Epoch 36/50\n",
      "29/29 [==============================] - 0s 856us/step - loss: 0.1988 - accuracy: 0.9826\n",
      "Epoch 37/50\n",
      "29/29 [==============================] - 0s 774us/step - loss: 0.1970 - accuracy: 0.9837\n",
      "Epoch 38/50\n",
      "29/29 [==============================] - 0s 870us/step - loss: 0.1910 - accuracy: 0.9826\n",
      "Epoch 39/50\n",
      "29/29 [==============================] - 0s 730us/step - loss: 0.1841 - accuracy: 0.9869\n",
      "Epoch 40/50\n",
      "29/29 [==============================] - 0s 707us/step - loss: 0.1798 - accuracy: 0.9859\n",
      "Epoch 41/50\n",
      "29/29 [==============================] - 0s 736us/step - loss: 0.1756 - accuracy: 0.9880\n",
      "Epoch 42/50\n",
      "29/29 [==============================] - 0s 724us/step - loss: 0.1710 - accuracy: 0.9891\n",
      "Epoch 43/50\n",
      "29/29 [==============================] - 0s 702us/step - loss: 0.1659 - accuracy: 0.9891\n",
      "Epoch 44/50\n",
      "29/29 [==============================] - 0s 717us/step - loss: 0.1624 - accuracy: 0.9924\n",
      "Epoch 45/50\n",
      "29/29 [==============================] - 0s 753us/step - loss: 0.1589 - accuracy: 0.9913\n",
      "Epoch 46/50\n",
      "29/29 [==============================] - 0s 769us/step - loss: 0.1569 - accuracy: 0.9902\n",
      "Epoch 47/50\n",
      "29/29 [==============================] - 0s 786us/step - loss: 0.1510 - accuracy: 0.9935\n",
      "Epoch 48/50\n",
      "29/29 [==============================] - 0s 706us/step - loss: 0.1480 - accuracy: 0.9924\n",
      "Epoch 49/50\n",
      "29/29 [==============================] - 0s 764us/step - loss: 0.1452 - accuracy: 0.9935\n",
      "Epoch 50/50\n",
      "29/29 [==============================] - 0s 749us/step - loss: 0.1411 - accuracy: 0.9935\n",
      "8/8 [==============================] - 0s 606us/step - loss: 0.1747 - accuracy: 0.9739\n",
      "Epoch 1/50\n",
      "29/29 [==============================] - 0s 749us/step - loss: 0.6835 - accuracy: 0.5957\n",
      "Epoch 2/50\n",
      "29/29 [==============================] - 0s 735us/step - loss: 0.6471 - accuracy: 0.6685\n",
      "Epoch 3/50\n",
      "29/29 [==============================] - 0s 735us/step - loss: 0.5775 - accuracy: 0.7457\n",
      "Epoch 4/50\n",
      "29/29 [==============================] - 0s 750us/step - loss: 0.5031 - accuracy: 0.7924\n",
      "Epoch 5/50\n",
      "29/29 [==============================] - 0s 730us/step - loss: 0.4392 - accuracy: 0.8250\n",
      "Epoch 6/50\n",
      "29/29 [==============================] - 0s 694us/step - loss: 0.3862 - accuracy: 0.8446\n",
      "Epoch 7/50\n",
      "29/29 [==============================] - 0s 772us/step - loss: 0.3486 - accuracy: 0.8533\n",
      "Epoch 8/50\n",
      "29/29 [==============================] - 0s 1ms/step - loss: 0.3194 - accuracy: 0.8728\n",
      "Epoch 9/50\n",
      "29/29 [==============================] - 0s 777us/step - loss: 0.2994 - accuracy: 0.8674\n",
      "Epoch 10/50\n",
      "29/29 [==============================] - 0s 745us/step - loss: 0.2780 - accuracy: 0.8870\n",
      "Epoch 11/50\n",
      "29/29 [==============================] - 0s 706us/step - loss: 0.2628 - accuracy: 0.8935\n",
      "Epoch 12/50\n",
      "29/29 [==============================] - 0s 818us/step - loss: 0.2495 - accuracy: 0.9000\n",
      "Epoch 13/50\n",
      "29/29 [==============================] - 0s 735us/step - loss: 0.2411 - accuracy: 0.9011\n",
      "Epoch 14/50\n",
      "29/29 [==============================] - 0s 783us/step - loss: 0.2352 - accuracy: 0.9022\n",
      "Epoch 15/50\n",
      "29/29 [==============================] - 0s 723us/step - loss: 0.2311 - accuracy: 0.8989\n",
      "Epoch 16/50\n",
      "29/29 [==============================] - 0s 778us/step - loss: 0.2204 - accuracy: 0.9043\n",
      "Epoch 17/50\n",
      "29/29 [==============================] - 0s 727us/step - loss: 0.2128 - accuracy: 0.9098\n",
      "Epoch 18/50\n",
      "29/29 [==============================] - 0s 769us/step - loss: 0.2098 - accuracy: 0.9109\n",
      "Epoch 19/50\n",
      "29/29 [==============================] - 0s 723us/step - loss: 0.2040 - accuracy: 0.9054\n",
      "Epoch 20/50\n",
      "29/29 [==============================] - 0s 804us/step - loss: 0.1989 - accuracy: 0.9141\n",
      "Epoch 21/50\n",
      "29/29 [==============================] - 0s 724us/step - loss: 0.1960 - accuracy: 0.9141\n",
      "Epoch 22/50\n",
      "29/29 [==============================] - 0s 774us/step - loss: 0.1873 - accuracy: 0.9098\n",
      "Epoch 23/50\n",
      "29/29 [==============================] - 0s 726us/step - loss: 0.1825 - accuracy: 0.9185\n",
      "Epoch 24/50\n",
      "29/29 [==============================] - 0s 750us/step - loss: 0.1811 - accuracy: 0.9174\n",
      "Epoch 25/50\n",
      "29/29 [==============================] - 0s 731us/step - loss: 0.1781 - accuracy: 0.9239\n",
      "Epoch 26/50\n",
      "29/29 [==============================] - 0s 709us/step - loss: 0.1710 - accuracy: 0.9239\n",
      "Epoch 27/50\n",
      "29/29 [==============================] - 0s 726us/step - loss: 0.1660 - accuracy: 0.9250\n",
      "Epoch 28/50\n",
      "29/29 [==============================] - 0s 717us/step - loss: 0.1640 - accuracy: 0.9293\n",
      "Epoch 29/50\n",
      "29/29 [==============================] - 0s 739us/step - loss: 0.1609 - accuracy: 0.9272\n",
      "Epoch 30/50\n",
      "29/29 [==============================] - 0s 750us/step - loss: 0.1576 - accuracy: 0.9370\n",
      "Epoch 31/50\n",
      "29/29 [==============================] - 0s 758us/step - loss: 0.1480 - accuracy: 0.9315\n",
      "Epoch 32/50\n",
      "29/29 [==============================] - 0s 772us/step - loss: 0.1459 - accuracy: 0.9402\n",
      "Epoch 33/50\n",
      "29/29 [==============================] - 0s 758us/step - loss: 0.1394 - accuracy: 0.9435\n",
      "Epoch 34/50\n",
      "29/29 [==============================] - 0s 743us/step - loss: 0.1390 - accuracy: 0.9391\n",
      "Epoch 35/50\n",
      "29/29 [==============================] - 0s 762us/step - loss: 0.1291 - accuracy: 0.9413\n",
      "Epoch 36/50\n",
      "29/29 [==============================] - 0s 776us/step - loss: 0.1239 - accuracy: 0.9500\n",
      "Epoch 37/50\n",
      "29/29 [==============================] - 0s 753us/step - loss: 0.1202 - accuracy: 0.9500\n",
      "Epoch 38/50\n",
      "29/29 [==============================] - 0s 730us/step - loss: 0.1172 - accuracy: 0.9478\n",
      "Epoch 39/50\n",
      "29/29 [==============================] - 0s 744us/step - loss: 0.1114 - accuracy: 0.9554\n",
      "Epoch 40/50\n"
     ]
    },
    {
     "name": "stdout",
     "output_type": "stream",
     "text": [
      "29/29 [==============================] - 0s 757us/step - loss: 0.1078 - accuracy: 0.9533\n",
      "Epoch 41/50\n",
      "29/29 [==============================] - 0s 721us/step - loss: 0.1020 - accuracy: 0.9598\n",
      "Epoch 42/50\n",
      "29/29 [==============================] - 0s 745us/step - loss: 0.0988 - accuracy: 0.9630\n",
      "Epoch 43/50\n",
      "29/29 [==============================] - 0s 733us/step - loss: 0.0951 - accuracy: 0.9652\n",
      "Epoch 44/50\n",
      "29/29 [==============================] - 0s 762us/step - loss: 0.0917 - accuracy: 0.9685\n",
      "Epoch 45/50\n",
      "29/29 [==============================] - 0s 737us/step - loss: 0.0890 - accuracy: 0.9696\n",
      "Epoch 46/50\n",
      "29/29 [==============================] - 0s 754us/step - loss: 0.0841 - accuracy: 0.9717\n",
      "Epoch 47/50\n",
      "29/29 [==============================] - 0s 774us/step - loss: 0.0807 - accuracy: 0.9696\n",
      "Epoch 48/50\n",
      "29/29 [==============================] - 0s 746us/step - loss: 0.0763 - accuracy: 0.9707\n",
      "Epoch 49/50\n",
      "29/29 [==============================] - 0s 739us/step - loss: 0.0732 - accuracy: 0.9728\n",
      "Epoch 50/50\n",
      "29/29 [==============================] - 0s 717us/step - loss: 0.0707 - accuracy: 0.9728\n",
      "8/8 [==============================] - 0s 658us/step - loss: 0.1605 - accuracy: 0.9170\n"
     ]
    },
    {
     "data": {
      "text/plain": [
       "array([0.95652175, 0.95652175, 0.97391301, 0.97391301, 0.91703057])"
      ]
     },
     "execution_count": 15,
     "metadata": {},
     "output_type": "execute_result"
    }
   ],
   "source": [
    "# Can now cross_val\n",
    "cross_val_score(keras_model, X_pure_train, y_pure_train)"
   ]
  },
  {
   "cell_type": "markdown",
   "metadata": {},
   "source": [
    "## Regularization"
   ]
  },
  {
   "cell_type": "markdown",
   "metadata": {},
   "source": [
    "Does regularization make sense in the context of neural networks? <br/>\n",
    "\n",
    "Yes! We still have all of the salient ingredients: a loss function, overfitting vs. underfitting, and coefficients (weights) that could get too large.\n",
    "\n",
    "But there are now a few different flavors besides L1 and L2 regularization. (Note that L1 regularization is not common in the context of  neural networks.)\n",
    "\n",
    "We'll add a few more layers to give regularization a better chance of making a difference!"
   ]
  },
  {
   "cell_type": "code",
   "execution_count": 17,
   "metadata": {},
   "outputs": [
    {
     "data": {
      "image/png": "[encoded data removed]",
      "text/plain": [
       "<Figure size 720x360 with 2 Axes>"
      ]
     },
     "metadata": {
      "needs_background": "light"
     },
     "output_type": "display_data"
    }
   ],
   "source": [
    "model = Sequential()\n",
    "model.add(Dense(30, activation='relu', input_dim=64))\n",
    "\n",
    "# We can add L2 (or L1) regularization right into\n",
    "# the layer with the kernel_regularizer parameter.\n",
    "\n",
    "model.add(Dense(20, activation='relu', kernel_regularizer=l2(l2=0.05)))\n",
    "\n",
    "# Note that there is also a bias_regularizer,\n",
    "# but this tends to have less effect.\n",
    "\n",
    "model.add(Dense(12, activation='relu'))\n",
    "model.add(Dense(12, activation='relu'))\n",
    "model.add(Dense(12, activation='relu'))\n",
    "model.add(Dense(8, activation='relu'))\n",
    "model.add(Dense(4, activation='relu'))\n",
    "model.add(Dense(1, activation ='sigmoid'))\n",
    "\n",
    "model.compile(optimizer='adam',\n",
    "              loss='binary_crossentropy',\n",
    "              metrics=['accuracy'])\n",
    "\n",
    "results = model.fit(X_pure_train, y_pure_train, epochs=20, batch_size=32,\n",
    "                    verbose=0, validation_data=(X_val, y_val))\n",
    "\n",
    "train_loss = results.history['loss']\n",
    "train_acc = results.history['accuracy']\n",
    "val_loss = results.history['val_loss']\n",
    "val_acc = results.history['val_accuracy']\n",
    "\n",
    "\n",
    "fig, (ax1, ax2) = plt.subplots(1, 2, figsize=(10, 5))\n",
    "sns.lineplot(x=results.epoch, y=train_loss, ax=ax1, label='train_loss')\n",
    "sns.lineplot(x=results.epoch, y=train_acc, ax=ax2, label='train_accuracy')\n",
    "\n",
    "sns.lineplot(x=results.epoch, y=val_loss, ax=ax1, label='val_loss')\n",
    "sns.lineplot(x=results.epoch, y=val_acc, ax=ax2, label='val_accuracy');"
   ]
  },
  {
   "cell_type": "markdown",
   "metadata": {},
   "source": [
    "Adding L2 to multiple layers:"
   ]
  },
  {
   "cell_type": "code",
   "execution_count": 18,
   "metadata": {},
   "outputs": [
    {
     "data": {
      "image/png": "[encoded data removed]",
      "text/plain": [
       "<Figure size 720x360 with 2 Axes>"
      ]
     },
     "metadata": {
      "needs_background": "light"
     },
     "output_type": "display_data"
    }
   ],
   "source": [
    "model = Sequential()\n",
    "model.add(Dense(30, activation='relu',\n",
    "                input_dim=64))\n",
    "model.add(Dense(20, activation='relu',\n",
    "                kernel_regularizer=l2(l2=0.01)))\n",
    "\n",
    "model.add(Dense(12, activation='relu',\n",
    "                kernel_regularizer=l2(l2=0.01)))\n",
    "model.add(Dense(12, activation='relu',\n",
    "                kernel_regularizer=l2(l2=0.01)))\n",
    "model.add(Dense(12, activation='relu',\n",
    "                kernel_regularizer=l2(l2=0.01)))\n",
    "model.add(Dense(8, activation='relu',\n",
    "                kernel_regularizer=l2(l2=0.01)))\n",
    "model.add(Dense(4, activation='relu',\n",
    "                kernel_regularizer=l2(l2=0.01)))\n",
    "model.add(Dense(1, activation='sigmoid'))\n",
    "\n",
    "model.compile(optimizer='adam',\n",
    "              loss='binary_crossentropy',\n",
    "              metrics=['accuracy'])\n",
    "\n",
    "results = model.fit(X_pure_train, y_pure_train, epochs=20, batch_size=32,\n",
    "                    verbose=0, validation_data=(X_val, y_val))\n",
    "\n",
    "train_loss = results.history['loss']\n",
    "train_acc = results.history['accuracy']\n",
    "val_loss = results.history['val_loss']\n",
    "val_acc = results.history['val_accuracy']\n",
    "\n",
    "\n",
    "fig, (ax1, ax2) = plt.subplots(1, 2, figsize=(10, 5))\n",
    "sns.lineplot(x=results.epoch, y=train_loss, ax=ax1, label='train_loss')\n",
    "sns.lineplot(x=results.epoch, y=train_acc, ax=ax2, label='train_accuracy')\n",
    "\n",
    "sns.lineplot(x=results.epoch, y=val_loss, ax=ax1, label='val_loss')\n",
    "sns.lineplot(x=results.epoch, y=val_acc, ax=ax2, label='val_accuracy');"
   ]
  },
  {
   "cell_type": "markdown",
   "metadata": {},
   "source": [
    "### Dropout\n",
    "\n",
    "We can also specify a dropout layer in keras, which randomly shuts off different nodes during training. This can help to prevent overfitting.\n",
    "\n",
    "![drop_out](images/drop_out.png)"
   ]
  },
  {
   "cell_type": "markdown",
   "metadata": {},
   "source": [
    "### Exercise\n",
    "\n",
    "To add dropout to a `keras` network, simply add it as though it were a layer. It will apply to the immediately preceding layer.\n",
    "\n",
    "Add Dropout to one or more layers below."
   ]
  },
  {
   "cell_type": "code",
   "execution_count": 19,
   "metadata": {},
   "outputs": [
    {
     "data": {
      "image/png": "[encoded data removed]",
      "text/plain": [
       "<Figure size 720x360 with 2 Axes>"
      ]
     },
     "metadata": {
      "needs_background": "light"
     },
     "output_type": "display_data"
    }
   ],
   "source": [
    "model = Sequential()\n",
    "model.add(Dense(30, activation='relu', input_dim=64))\n",
    "model.add(Dense(20, activation='relu'))\n",
    "model.add(Dropout(.50))\n",
    "model.add(Dense(12, activation='relu'))\n",
    "model.add(Dropout(.50))\n",
    "model.add(Dense(12, activation='relu'))\n",
    "model.add(Dense(12, activation='relu'))\n",
    "model.add(Dense(8, activation='relu'))\n",
    "model.add(Dense(4, activation='relu'))\n",
    "model.add(Dense(1, activation ='sigmoid'))\n",
    "\n",
    "model.compile(optimizer='adam',\n",
    "              loss='binary_crossentropy',\n",
    "              metrics=['accuracy'])\n",
    "\n",
    "results = model.fit(X_pure_train, y_pure_train, epochs=50,\n",
    "                    batch_size= 32, verbose=0,\n",
    "                    validation_data=(X_val, y_val))\n",
    "\n",
    "train_loss = results.history['loss']\n",
    "train_acc = results.history['accuracy']\n",
    "val_loss = results.history['val_loss']\n",
    "val_acc = results.history['val_accuracy']\n",
    "\n",
    "\n",
    "fig, (ax1, ax2) = plt.subplots(1, 2, figsize=(10, 5))\n",
    "sns.lineplot(x=results.epoch, y=train_loss, ax=ax1, label='train_loss')\n",
    "sns.lineplot(x=results.epoch, y=train_acc, ax=ax2, label='train_accuracy')\n",
    "\n",
    "sns.lineplot(x=results.epoch, y=val_loss, ax=ax1, label='val_loss')\n",
    "sns.lineplot(x=results.epoch, y=val_acc, ax=ax2, label='val_accuracy');"
   ]
  },
  {
   "cell_type": "markdown",
   "metadata": {},
   "source": [
    "<details>\n",
    "    <summary>One answer here</summary>\n",
    "<code>model = Sequential()\n",
    "model.add(Dense(30, activation='relu', input_dim=64))\n",
    "model.add(Dense(20, activation='relu'))\n",
    "model.add(Dropout(0.5))\n",
    "model.add(Dense(12, activation='relu'))\n",
    "model.add(Dropout(0.2))\n",
    "model.add(Dense(12, activation='relu'))\n",
    "model.add(Dense(12, activation='relu'))\n",
    "model.add(Dense(8, activation='relu'))\n",
    "model.add(Dense(4, activation='relu'))\n",
    "model.add(Dense(1, activation ='sigmoid'))\n",
    "\n",
    "model.compile(optimizer='adam',\n",
    "              loss='binary_crossentropy',\n",
    "              metrics=['accuracy'])\n",
    "\n",
    "results = model.fit(X_pure_train, y_pure_train, epochs=50,\n",
    "                    batch_size= 32, verbose=0,\n",
    "                    validation_data=(X_val, y_val))\n",
    "\n",
    "train_loss = results.history['loss']\n",
    "train_acc = results.history['accuracy']\n",
    "val_loss = results.history['val_loss']\n",
    "val_acc = results.history['val_accuracy']\n",
    "\n",
    "\n",
    "fig, (ax1, ax2) = plt.subplots(1, 2, figsize=(10, 5))\n",
    "sns.lineplot(x=results.epoch, y=train_loss, ax=ax1, label='train_loss')\n",
    "sns.lineplot(x=results.epoch, y=train_acc, ax=ax2, label='train_accuracy')\n",
    "\n",
    "sns.lineplot(x=results.epoch, y=val_loss, ax=ax1, label='val_loss')\n",
    "sns.lineplot(x=results.epoch, y=val_acc, ax=ax2, label='val_accuracy');</code>\n",
    "</details>"
   ]
  },
  {
   "cell_type": "code",
   "execution_count": null,
   "metadata": {},
   "outputs": [],
   "source": [
    "results.history['val_accuracy'][-1]"
   ]
  },
  {
   "cell_type": "markdown",
   "metadata": {},
   "source": [
    "### Early Stopping"
   ]
  },
  {
   "cell_type": "markdown",
   "metadata": {},
   "source": [
    "We can also tell our neural network to stop once it stops realizing any gain.\n",
    "\n",
    "Here we tell it to stop once the a very small positive change in the validation loss occurs:"
   ]
  },
  {
   "cell_type": "code",
   "execution_count": 20,
   "metadata": {},
   "outputs": [
    {
     "name": "stdout",
     "output_type": "stream",
     "text": [
      "Epoch 00010: early stopping\n"
     ]
    },
    {
     "data": {
      "image/png": "[encoded data removed]",
      "text/plain": [
       "<Figure size 720x360 with 2 Axes>"
      ]
     },
     "metadata": {
      "needs_background": "light"
     },
     "output_type": "display_data"
    }
   ],
   "source": [
    "model = Sequential()\n",
    "model.add(Dense(30, activation='relu', input_dim=64))\n",
    "model.add(Dense(20, activation='relu'))\n",
    "model.add(Dropout(0.5))\n",
    "model.add(Dense(12, activation='relu'))\n",
    "model.add(Dense(12, activation='relu'))\n",
    "model.add(Dense(12, activation='relu'))\n",
    "model.add(Dense(8, activation='relu'))\n",
    "model.add(Dense(4, activation='relu'))\n",
    "model.add(Dense(1, activation ='sigmoid'))\n",
    "\n",
    "model.compile(optimizer='adam',\n",
    "              loss='binary_crossentropy',\n",
    "              metrics=['accuracy'])\n",
    "\n",
    "# Define the EarlyStopping object\n",
    "early_stop = EarlyStopping(monitor='val_loss', min_delta=1e-8,\n",
    "                           verbose=1,\n",
    "                           mode='min')\n",
    "\n",
    "# Place this in a list as the value of the `callbacks` parameter\n",
    "# in the `.fit()` method.\n",
    "results = model.fit(X_pure_train, y_pure_train,\n",
    "                    epochs=20, batch_size=32,\n",
    "                    verbose=0, validation_data=(X_val, y_val),\n",
    "                    callbacks=[early_stop])\n",
    "\n",
    "train_loss = results.history['loss']\n",
    "train_acc = results.history['accuracy']\n",
    "val_loss = results.history['val_loss']\n",
    "val_acc = results.history['val_accuracy']\n",
    "\n",
    "\n",
    "fig, (ax1, ax2) = plt.subplots(1, 2, figsize=(10, 5))\n",
    "sns.lineplot(x=results.epoch, y=train_loss, ax=ax1, label='train_loss')\n",
    "sns.lineplot(x=results.epoch, y=train_acc, ax=ax2, label='train_accuracy')\n",
    "\n",
    "sns.lineplot(x=results.epoch, y=val_loss, ax=ax1, label='val_loss')\n",
    "sns.lineplot(x=results.epoch, y=val_acc, ax=ax2, label='val_accuracy');"
   ]
  },
  {
   "cell_type": "markdown",
   "metadata": {},
   "source": [
    "### Exercise\n",
    "\n",
    "That probably stopped too early. We can specify the number of epochs in which it doesn't see decrease in the loss with the `patience` parameter. Modify the code below to include an Early Stop with a patience of 5 epochs."
   ]
  },
  {
   "cell_type": "code",
   "execution_count": 21,
   "metadata": {},
   "outputs": [
    {
     "name": "stdout",
     "output_type": "stream",
     "text": [
      "Epoch 00044: early stopping\n"
     ]
    },
    {
     "data": {
      "image/png": "[encoded data removed]",
      "text/plain": [
       "<Figure size 720x360 with 2 Axes>"
      ]
     },
     "metadata": {
      "needs_background": "light"
     },
     "output_type": "display_data"
    }
   ],
   "source": [
    "model = Sequential()\n",
    "model.add(Dense(30, activation='relu', input_dim=64))\n",
    "model.add(Dense(20, activation='relu'))\n",
    "model.add(Dropout(0.5))\n",
    "model.add(Dense(12, activation='relu'))\n",
    "model.add(Dense(12, activation='relu'))\n",
    "model.add(Dense(12, activation='relu'))\n",
    "model.add(Dense(8, activation='relu'))\n",
    "model.add(Dense(4, activation='relu'))\n",
    "model.add(Dense(1, activation ='sigmoid'))\n",
    "\n",
    "model.compile(optimizer='adam',\n",
    "              loss='binary_crossentropy',\n",
    "              metrics=['accuracy'])\n",
    "\n",
    "# Define the EarlyStopping object\n",
    "early_stop = EarlyStopping(monitor='val_loss', min_delta=1e-8,\n",
    "                           verbose=1, patience=5,\n",
    "                           mode='min')\n",
    "\n",
    "# Place this in a list as the value of the `callbacks` parameter\n",
    "# in the `.fit()` method.\n",
    "results = model.fit(X_pure_train, y_pure_train,\n",
    "                    epochs=50, batch_size= 32,\n",
    "                    verbose=0, validation_data=(X_val, y_val),\n",
    "                    callbacks=[early_stop])\n",
    "\n",
    "train_loss = results.history['loss']\n",
    "train_acc = results.history['accuracy']\n",
    "val_loss = results.history['val_loss']\n",
    "val_acc = results.history['val_accuracy']\n",
    "\n",
    "\n",
    "fig, (ax1, ax2) = plt.subplots(1, 2, figsize=(10, 5))\n",
    "sns.lineplot(x=results.epoch, y=train_loss, ax=ax1, label='train_loss')\n",
    "sns.lineplot(x=results.epoch, y=train_acc, ax=ax2, label='train_accuracy')\n",
    "\n",
    "sns.lineplot(x=results.epoch, y=val_loss, ax=ax1, label='val_loss')\n",
    "sns.lineplot(x=results.epoch, y=val_acc, ax=ax2, label='val_accuracy');"
   ]
  },
  {
   "cell_type": "markdown",
   "metadata": {},
   "source": [
    "<details>\n",
    "    <summary>One answer here</summary>\n",
    "<code>model = Sequential()\n",
    "model.add(Dense(30, activation='relu', input_dim=64))\n",
    "model.add(Dense(20, activation='relu'))\n",
    "model.add(Dropout(0.5))\n",
    "model.add(Dense(12, activation='relu'))\n",
    "model.add(Dense(12, activation='relu'))\n",
    "model.add(Dense(12, activation='relu'))\n",
    "model.add(Dense(8, activation='relu'))\n",
    "model.add(Dense(4, activation='relu'))\n",
    "model.add(Dense(1, activation ='sigmoid'))\n",
    "\n",
    "model.compile(optimizer='adam',\n",
    "              loss='binary_crossentropy',\n",
    "              metrics=['accuracy'])\n",
    "\n",
    "# Define the EarlyStopping object\n",
    "\n",
    "\n",
    "\n",
    "# Place this in a list as the value of the `callbacks` parameter\n",
    "# in the `.fit()` method.\n",
    "results = model.fit(X_pure_train, y_pure_train,\n",
    "                    epochs=50, batch_size= 32,\n",
    "                    verbose=0, validation_data=(X_val, y_val),\n",
    "                    callbacks=[early_stop])\n",
    "\n",
    "train_loss = results.history['loss']\n",
    "train_acc = results.history['accuracy']\n",
    "val_loss = results.history['val_loss']\n",
    "val_acc = results.history['val_accuracy']\n",
    "\n",
    "\n",
    "fig, (ax1, ax2) = plt.subplots(1, 2, figsize=(10, 5))\n",
    "sns.lineplot(x=results.epoch, y=train_loss, ax=ax1, label='train_loss')\n",
    "sns.lineplot(x=results.epoch, y=train_acc, ax=ax2, label='train_accuracy')\n",
    "\n",
    "sns.lineplot(x=results.epoch, y=val_loss, ax=ax1, label='val_loss')\n",
    "sns.lineplot(x=results.epoch, y=val_acc, ax=ax2, label='val_accuracy');</code>\n",
    "</details>"
   ]
  },
  {
   "cell_type": "code",
   "execution_count": null,
   "metadata": {},
   "outputs": [],
   "source": [
    "results.history['val_accuracy'][-1]"
   ]
  },
  {
   "cell_type": "markdown",
   "metadata": {},
   "source": [
    "## Multiclass Classification and Softmax"
   ]
  },
  {
   "cell_type": "markdown",
   "metadata": {},
   "source": [
    "Now let's return to the problem of predicting digits 0 through 9."
   ]
  },
  {
   "cell_type": "code",
   "execution_count": 22,
   "metadata": {},
   "outputs": [],
   "source": [
    "digits = load_digits()\n",
    "X = digits.data\n",
    "y = digits.target"
   ]
  },
  {
   "cell_type": "code",
   "execution_count": 23,
   "metadata": {},
   "outputs": [],
   "source": [
    "X_train, X_test, y_train, y_test = train_test_split(X, y,\n",
    "                                                    random_state=42,\n",
    "                                                    test_size=0.2)\n",
    "X_pure_train, X_val, y_pure_train, y_val =\\\n",
    "    train_test_split(X_train, y_train,\n",
    "                     random_state=42, test_size=0.2)\n",
    "X_pure_train, X_val, X_test = X_pure_train/16, X_val/16, X_test/16"
   ]
  },
  {
   "cell_type": "markdown",
   "metadata": {},
   "source": [
    "For a multiclass output, our neural net expects our target to be in a certain form."
   ]
  },
  {
   "cell_type": "code",
   "execution_count": 24,
   "metadata": {},
   "outputs": [],
   "source": [
    "ohe = OneHotEncoder(sparse=False)\n",
    "y_pure_train = ohe.fit_transform(y_pure_train.reshape(-1,1))\n",
    "y_val = ohe.transform(y_val.reshape(-1,1))\n",
    "y_test = ohe.transform(y_test.reshape(-1,1))"
   ]
  },
  {
   "cell_type": "code",
   "execution_count": 25,
   "metadata": {},
   "outputs": [
    {
     "data": {
      "text/plain": [
       "array([[0., 0., 0., ..., 0., 0., 0.],\n",
       "       [0., 0., 0., ..., 0., 0., 1.],\n",
       "       [0., 0., 0., ..., 0., 0., 0.],\n",
       "       ...,\n",
       "       [0., 0., 0., ..., 0., 1., 0.],\n",
       "       [0., 0., 0., ..., 0., 0., 0.],\n",
       "       [0., 0., 0., ..., 0., 0., 0.]])"
      ]
     },
     "execution_count": 25,
     "metadata": {},
     "output_type": "execute_result"
    }
   ],
   "source": [
    "y_test"
   ]
  },
  {
   "cell_type": "code",
   "execution_count": 26,
   "metadata": {},
   "outputs": [
    {
     "name": "stdout",
     "output_type": "stream",
     "text": [
      "Epoch 1/50\n",
      "115/115 [==============================] - 0s 2ms/step - loss: 2.1557 - accuracy: 0.1915 - val_loss: 2.0631 - val_accuracy: 0.2222\n",
      "Epoch 2/50\n",
      "115/115 [==============================] - 0s 915us/step - loss: 1.8557 - accuracy: 0.3481 - val_loss: 1.7704 - val_accuracy: 0.3681\n",
      "Epoch 3/50\n",
      "115/115 [==============================] - 0s 874us/step - loss: 1.5498 - accuracy: 0.4543 - val_loss: 1.4878 - val_accuracy: 0.5451\n",
      "Epoch 4/50\n",
      "115/115 [==============================] - 0s 969us/step - loss: 1.2645 - accuracy: 0.6127 - val_loss: 1.2546 - val_accuracy: 0.6250\n",
      "Epoch 5/50\n",
      "115/115 [==============================] - 0s 942us/step - loss: 1.0424 - accuracy: 0.7050 - val_loss: 1.0387 - val_accuracy: 0.7153\n",
      "Epoch 6/50\n",
      "115/115 [==============================] - 0s 875us/step - loss: 0.8633 - accuracy: 0.7467 - val_loss: 0.8828 - val_accuracy: 0.7674\n",
      "Epoch 7/50\n",
      "115/115 [==============================] - 0s 919us/step - loss: 0.7360 - accuracy: 0.7868 - val_loss: 0.7826 - val_accuracy: 0.7778\n",
      "Epoch 8/50\n",
      "115/115 [==============================] - 0s 898us/step - loss: 0.6347 - accuracy: 0.8120 - val_loss: 0.6711 - val_accuracy: 0.8056\n",
      "Epoch 9/50\n",
      "115/115 [==============================] - 0s 907us/step - loss: 0.5618 - accuracy: 0.8181 - val_loss: 0.6207 - val_accuracy: 0.8472\n",
      "Epoch 10/50\n",
      "115/115 [==============================] - 0s 878us/step - loss: 0.5060 - accuracy: 0.8538 - val_loss: 0.5483 - val_accuracy: 0.8403\n",
      "Epoch 11/50\n",
      "115/115 [==============================] - 0s 911us/step - loss: 0.4603 - accuracy: 0.8538 - val_loss: 0.5088 - val_accuracy: 0.8611\n",
      "Epoch 12/50\n",
      "115/115 [==============================] - 0s 1ms/step - loss: 0.4263 - accuracy: 0.8721 - val_loss: 0.4729 - val_accuracy: 0.8611\n",
      "Epoch 13/50\n",
      "115/115 [==============================] - 0s 2ms/step - loss: 0.3842 - accuracy: 0.8842 - val_loss: 0.4315 - val_accuracy: 0.8681\n",
      "Epoch 14/50\n",
      "115/115 [==============================] - 0s 1ms/step - loss: 0.3552 - accuracy: 0.8921 - val_loss: 0.4008 - val_accuracy: 0.8854\n",
      "Epoch 15/50\n",
      "115/115 [==============================] - 0s 1ms/step - loss: 0.3339 - accuracy: 0.9051 - val_loss: 0.3752 - val_accuracy: 0.8819\n",
      "Epoch 16/50\n",
      "115/115 [==============================] - 0s 1ms/step - loss: 0.3121 - accuracy: 0.9060 - val_loss: 0.3463 - val_accuracy: 0.8993\n",
      "Epoch 17/50\n",
      "115/115 [==============================] - 0s 872us/step - loss: 0.2900 - accuracy: 0.9138 - val_loss: 0.3282 - val_accuracy: 0.8993\n",
      "Epoch 18/50\n",
      "115/115 [==============================] - 0s 1ms/step - loss: 0.2733 - accuracy: 0.9164 - val_loss: 0.3034 - val_accuracy: 0.8924\n",
      "Epoch 19/50\n",
      "115/115 [==============================] - 0s 990us/step - loss: 0.2567 - accuracy: 0.9243 - val_loss: 0.2860 - val_accuracy: 0.9062\n",
      "Epoch 20/50\n",
      "115/115 [==============================] - 0s 913us/step - loss: 0.2407 - accuracy: 0.9269 - val_loss: 0.2772 - val_accuracy: 0.9097\n",
      "Epoch 21/50\n",
      "115/115 [==============================] - 0s 832us/step - loss: 0.2295 - accuracy: 0.9321 - val_loss: 0.2577 - val_accuracy: 0.9306\n",
      "Epoch 22/50\n",
      "115/115 [==============================] - 0s 875us/step - loss: 0.2199 - accuracy: 0.9365 - val_loss: 0.2445 - val_accuracy: 0.9236\n",
      "Epoch 23/50\n",
      "115/115 [==============================] - 0s 868us/step - loss: 0.2067 - accuracy: 0.9365 - val_loss: 0.2498 - val_accuracy: 0.9271\n",
      "Epoch 24/50\n",
      "115/115 [==============================] - 0s 829us/step - loss: 0.1946 - accuracy: 0.9417 - val_loss: 0.2236 - val_accuracy: 0.9340\n",
      "Epoch 25/50\n",
      "115/115 [==============================] - 0s 888us/step - loss: 0.1874 - accuracy: 0.9408 - val_loss: 0.2188 - val_accuracy: 0.9410\n",
      "Epoch 26/50\n",
      "115/115 [==============================] - 0s 869us/step - loss: 0.1801 - accuracy: 0.9452 - val_loss: 0.2090 - val_accuracy: 0.9340\n",
      "Epoch 27/50\n",
      "115/115 [==============================] - 0s 863us/step - loss: 0.1717 - accuracy: 0.9478 - val_loss: 0.1977 - val_accuracy: 0.9444\n",
      "Epoch 28/50\n",
      "115/115 [==============================] - 0s 903us/step - loss: 0.1653 - accuracy: 0.9487 - val_loss: 0.1924 - val_accuracy: 0.9479\n",
      "Epoch 29/50\n",
      "115/115 [==============================] - 0s 904us/step - loss: 0.1542 - accuracy: 0.9521 - val_loss: 0.1844 - val_accuracy: 0.9514\n",
      "Epoch 30/50\n",
      "115/115 [==============================] - 0s 873us/step - loss: 0.1483 - accuracy: 0.9574 - val_loss: 0.1912 - val_accuracy: 0.9375\n",
      "Epoch 31/50\n",
      "115/115 [==============================] - 0s 940us/step - loss: 0.1443 - accuracy: 0.9591 - val_loss: 0.1721 - val_accuracy: 0.9549\n",
      "Epoch 32/50\n",
      "115/115 [==============================] - 0s 969us/step - loss: 0.1385 - accuracy: 0.9608 - val_loss: 0.1718 - val_accuracy: 0.9514\n",
      "Epoch 33/50\n",
      "115/115 [==============================] - 0s 915us/step - loss: 0.1311 - accuracy: 0.9643 - val_loss: 0.1657 - val_accuracy: 0.9444\n",
      "Epoch 34/50\n",
      "115/115 [==============================] - 0s 898us/step - loss: 0.1265 - accuracy: 0.9626 - val_loss: 0.1586 - val_accuracy: 0.9514\n",
      "Epoch 35/50\n",
      "115/115 [==============================] - 0s 865us/step - loss: 0.1208 - accuracy: 0.9643 - val_loss: 0.1519 - val_accuracy: 0.9479\n",
      "Epoch 36/50\n",
      "115/115 [==============================] - 0s 845us/step - loss: 0.1181 - accuracy: 0.9669 - val_loss: 0.1497 - val_accuracy: 0.9549\n",
      "Epoch 37/50\n",
      "115/115 [==============================] - 0s 757us/step - loss: 0.1113 - accuracy: 0.9687 - val_loss: 0.1567 - val_accuracy: 0.9410\n",
      "Epoch 38/50\n",
      "115/115 [==============================] - 0s 830us/step - loss: 0.1092 - accuracy: 0.9687 - val_loss: 0.1448 - val_accuracy: 0.9444\n",
      "Epoch 39/50\n",
      "115/115 [==============================] - 0s 760us/step - loss: 0.1062 - accuracy: 0.9695 - val_loss: 0.1535 - val_accuracy: 0.9340\n",
      "Epoch 40/50\n",
      "115/115 [==============================] - 0s 739us/step - loss: 0.1024 - accuracy: 0.9713 - val_loss: 0.1373 - val_accuracy: 0.9549\n",
      "Epoch 41/50\n",
      "115/115 [==============================] - 0s 725us/step - loss: 0.0971 - accuracy: 0.9730 - val_loss: 0.1397 - val_accuracy: 0.9444\n",
      "Epoch 42/50\n",
      "115/115 [==============================] - 0s 844us/step - loss: 0.0938 - accuracy: 0.9748 - val_loss: 0.1333 - val_accuracy: 0.9479\n",
      "Epoch 43/50\n",
      "115/115 [==============================] - 0s 749us/step - loss: 0.0884 - accuracy: 0.9748 - val_loss: 0.1337 - val_accuracy: 0.9444\n",
      "Epoch 44/50\n",
      "115/115 [==============================] - 0s 1ms/step - loss: 0.0872 - accuracy: 0.9748 - val_loss: 0.1334 - val_accuracy: 0.9479\n",
      "Epoch 45/50\n",
      "115/115 [==============================] - 0s 859us/step - loss: 0.0827 - accuracy: 0.9748 - val_loss: 0.1276 - val_accuracy: 0.9549\n",
      "Epoch 46/50\n",
      "115/115 [==============================] - 0s 849us/step - loss: 0.0809 - accuracy: 0.9782 - val_loss: 0.1229 - val_accuracy: 0.9479\n",
      "Epoch 47/50\n",
      "115/115 [==============================] - 0s 874us/step - loss: 0.0773 - accuracy: 0.9774 - val_loss: 0.1257 - val_accuracy: 0.9444\n",
      "Epoch 48/50\n",
      "115/115 [==============================] - 0s 832us/step - loss: 0.0767 - accuracy: 0.9782 - val_loss: 0.1209 - val_accuracy: 0.9514\n",
      "Epoch 49/50\n",
      "115/115 [==============================] - 0s 845us/step - loss: 0.0730 - accuracy: 0.9791 - val_loss: 0.1163 - val_accuracy: 0.9583\n",
      "Epoch 50/50\n",
      "115/115 [==============================] - 0s 790us/step - loss: 0.0703 - accuracy: 0.9835 - val_loss: 0.1187 - val_accuracy: 0.9618\n"
     ]
    }
   ],
   "source": [
    "# Model from above, but now with ten output neurons:\n",
    "\n",
    "model = Sequential()\n",
    "model.add(Dense(12, activation='relu', input_dim=64))\n",
    "model.add(Dense(8, activation='relu'))\n",
    "# Final layer will look different need a node for each class\n",
    "model.add(Dense(10, activation='softmax'))\n",
    "\n",
    "model.compile(optimizer='adam',\n",
    "              loss='categorical_crossentropy',\n",
    "              metrics=['accuracy'])\n",
    "\n",
    "results = model.fit(X_pure_train, y_pure_train,\n",
    "                   epochs=50, batch_size=10,\n",
    "                   validation_data=(X_val, y_val))"
   ]
  },
  {
   "cell_type": "markdown",
   "metadata": {},
   "source": [
    "$$\\large \\text{Softmax}(x_{i}) = \\frac{\\exp(x_i)}{\\sum_j \\exp(x_j)}$$\n",
    "\n",
    "The sofmax function outputs a number between 0 and 1 for each of our classes.  All of the probabilities of the classes sum up to 1.\n",
    "\n",
    "The number of nodes in our output layer equals the number of categories in our dataset.\n",
    "\n",
    "We also need a new loss function: **categorical crossentropy**, which calculates a separate loss for each label and then sums the results."
   ]
  },
  {
   "cell_type": "code",
   "execution_count": 27,
   "metadata": {},
   "outputs": [],
   "source": [
    "history = results.history\n",
    "training_loss = history['loss']\n",
    "val_loss = history['val_loss']\n",
    "training_accuracy = history['accuracy']\n",
    "val_accuracy = history['val_accuracy']"
   ]
  },
  {
   "cell_type": "code",
   "execution_count": 28,
   "metadata": {},
   "outputs": [
    {
     "data": {
      "image/png": "[encoded data removed]",
      "text/plain": [
       "<Figure size 1080x360 with 2 Axes>"
      ]
     },
     "metadata": {
      "needs_background": "light"
     },
     "output_type": "display_data"
    }
   ],
   "source": [
    "fig, (ax1,ax2) = plt.subplots(1,2,figsize=(15,5))\n",
    "\n",
    "\n",
    "sns.lineplot(x=list(range(len(training_loss))),\n",
    "             y=training_loss, color='r', label='training', ax=ax1)\n",
    "sns.lineplot(x=list(range(len(val_loss))),\n",
    "             y=val_loss, color='b', label='validation', ax=ax1)\n",
    "sns.lineplot(x=list(range(len(training_loss))),\n",
    "             y=training_accuracy, color='r', label='training',ax=ax2)\n",
    "sns.lineplot(x=list(range(len(val_loss))),\n",
    "             y=val_accuracy, color='b', label='validation',ax=ax2)\n",
    "ax1.legend();"
   ]
  },
  {
   "cell_type": "code",
   "execution_count": 29,
   "metadata": {},
   "outputs": [
    {
     "data": {
      "text/plain": [
       "array([[3.4196306e-05, 9.7275606e-06, 8.3630192e-07, ..., 3.4044334e-15,\n",
       "        4.0634492e-04, 4.5466711e-10],\n",
       "       [4.9083222e-09, 2.1001615e-05, 4.8621828e-08, ..., 4.2711140e-06,\n",
       "        3.4006322e-03, 9.6268356e-01],\n",
       "       [4.1725754e-14, 2.2413183e-06, 1.2207361e-05, ..., 2.3046243e-09,\n",
       "        1.6814964e-04, 4.3447269e-04],\n",
       "       ...,\n",
       "       [1.1585857e-01, 1.3892561e-03, 4.0271250e-03, ..., 8.5224643e-02,\n",
       "        4.5874956e-01, 4.5933636e-04],\n",
       "       [1.3821546e-09, 3.6581099e-05, 2.7255568e-04, ..., 3.8445268e-08,\n",
       "        1.8971050e-02, 7.8641146e-02],\n",
       "       [2.0281084e-12, 6.2402628e-06, 9.4853236e-09, ..., 5.0870100e-11,\n",
       "        7.8220102e-05, 1.2172740e-02]], dtype=float32)"
      ]
     },
     "execution_count": 29,
     "metadata": {},
     "output_type": "execute_result"
    }
   ],
   "source": [
    "model.predict(X_test)"
   ]
  },
  {
   "cell_type": "code",
   "execution_count": 30,
   "metadata": {},
   "outputs": [
    {
     "data": {
      "text/plain": [
       "array([3.4196306e-05, 9.7275606e-06, 8.3630192e-07, 5.4276644e-08,\n",
       "       3.8234598e-06, 6.7626599e-05, 9.9947745e-01, 3.4044334e-15,\n",
       "       4.0634492e-04, 4.5466711e-10], dtype=float32)"
      ]
     },
     "execution_count": 30,
     "metadata": {},
     "output_type": "execute_result"
    }
   ],
   "source": [
    "model.predict(X_test)[0]"
   ]
  },
  {
   "cell_type": "code",
   "execution_count": 42,
   "metadata": {},
   "outputs": [],
   "source": [
    "y_hat_test = np.argmax(model.predict(X_test), axis=1)"
   ]
  },
  {
   "cell_type": "code",
   "execution_count": 43,
   "metadata": {
    "scrolled": false
   },
   "outputs": [
    {
     "data": {
      "text/plain": [
       "array([[31,  0,  0,  0,  2,  0,  0,  0,  0,  0],\n",
       "       [ 0, 27,  0,  0,  0,  0,  0,  0,  1,  0],\n",
       "       [ 0,  0, 31,  0,  0,  0,  0,  0,  2,  0],\n",
       "       [ 0,  0,  0, 33,  0,  1,  0,  0,  0,  0],\n",
       "       [ 0,  0,  0,  0, 46,  0,  0,  0,  0,  0],\n",
       "       [ 0,  0,  0,  0,  0, 44,  1,  0,  0,  2],\n",
       "       [ 0,  0,  0,  0,  0,  1, 34,  0,  0,  0],\n",
       "       [ 0,  0,  0,  0,  0,  0,  0, 32,  0,  2],\n",
       "       [ 0,  1,  0,  0,  0,  1,  0,  0, 28,  0],\n",
       "       [ 0,  0,  0,  0,  0,  0,  0,  0,  1, 39]])"
      ]
     },
     "execution_count": 43,
     "metadata": {},
     "output_type": "execute_result"
    }
   ],
   "source": [
    "y_test_restore = ohe.inverse_transform(y_test)\n",
    "confusion_matrix(y_test_restore, y_hat_test)"
   ]
  },
  {
   "cell_type": "code",
   "execution_count": 44,
   "metadata": {
    "scrolled": true
   },
   "outputs": [
    {
     "name": "stdout",
     "output_type": "stream",
     "text": [
      "12/12 [==============================] - 0s 592us/step - loss: 0.1613 - accuracy: 0.9583\n"
     ]
    },
    {
     "data": {
      "text/plain": [
       "0.9583333134651184"
      ]
     },
     "execution_count": 44,
     "metadata": {},
     "output_type": "execute_result"
    }
   ],
   "source": [
    "model.evaluate(X_test, y_test)[1]"
   ]
  },
  {
   "cell_type": "code",
   "execution_count": 45,
   "metadata": {},
   "outputs": [
    {
     "data": {
      "text/plain": [
       "0.9570770416483809"
      ]
     },
     "execution_count": 45,
     "metadata": {},
     "output_type": "execute_result"
    }
   ],
   "source": [
    "from sklearn.metrics import recall_score\n",
    "recall_score(y_test_restore, y_hat_test, average='macro')"
   ]
  },
  {
   "cell_type": "markdown",
   "metadata": {},
   "source": [
    "Wow, look at that performance!  \n",
    "\n",
    "That is great, but remember, we were dealing with simple black and white images.  With color, our basic neural net will have less success.\n",
    "\n"
   ]
  }
 ],
 "metadata": {
  "celltoolbar": "Raw Cell Format",
  "colab": {
   "collapsed_sections": [],
   "name": "intro-to-keras.ipynb",
   "provenance": []
  },
  "kernelspec": {
   "display_name": "Python (learn-env)",
   "language": "python",
   "name": "learn-env"
  },
  "language_info": {
   "codemirror_mode": {
    "name": "ipython",
    "version": 3
   },
   "file_extension": ".py",
   "mimetype": "text/x-python",
   "name": "python",
   "nbconvert_exporter": "python",
   "pygments_lexer": "ipython3",
   "version": "3.8.5"
  }
 },
 "nbformat": 4,
 "nbformat_minor": 4
}
